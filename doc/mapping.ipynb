{
 "cells": [
  {
   "cell_type": "code",
   "execution_count": 1,
   "id": "ef4d6e71",
   "metadata": {
    "pycharm": {
     "name": "#%%\n"
    }
   },
   "outputs": [],
   "source": [
    "from otit_swt_mapper import Mapping, ResolveIRI, MintingOptions, to_graph\n",
    "import polars as pl\n",
    "from math import floor"
   ]
  },
  {
   "cell_type": "markdown",
   "id": "68737458",
   "metadata": {
    "pycharm": {
     "name": "#%% md\n"
    }
   },
   "source": [
    "# Templates"
   ]
  },
  {
   "cell_type": "code",
   "execution_count": 2,
   "id": "3b0334f1",
   "metadata": {
    "pycharm": {
     "name": "#%%\n"
    }
   },
   "outputs": [],
   "source": [
    "instance_mapping = \"\"\"\n",
    "@prefix tpl:<https://github.com/magbak/otit_swt/templates#>.\n",
    "@prefix rds:<https://github.com/magbak/otit_swt/rds_power#>.\n",
    "@prefix otit:<https://github.com/magbak/otit_swt#>.\n",
    "@prefix rdf:<http://www.w3.org/1999/02/22-rdf-syntax-ns#>.\n",
    "@prefix rdfs:<http://www.w3.org/2000/01/rdf-schema#>.\n",
    "\n",
    "tpl:Site [?SiteIRI, ?SiteName] :: {\n",
    "    ottr:Triple(?SiteIRI, rdfs:label, ?SiteName),\n",
    "    ottr:Triple(?SiteIRI, rdf:type, rds:Site)\n",
    "    } .\n",
    "    \n",
    "tpl:FunctionalAspect [?SourceIRI, ?TargetIRI, ?TargetAspectNodeIRI, ?Label] :: {\n",
    "    ottr:Triple(?SourceIRI, rds:hasFunctionalAspect, ?TargetAspectNodeIRI),\n",
    "    ottr:Triple(?TargetIRI, rds:hasFunctionalAspectNode, ?TargetAspectNodeIRI),\n",
    "    ottr:Triple(?TargetAspectNodeIRI, rdfs:label, ?Label)\n",
    "} .\n",
    "\n",
    "tpl:RDSSystem [?SystemIRI, ?RDSType, ?Label] :: {\n",
    "    ottr:Triple(?SystemIRI, rdf:type, ?RDSType),\n",
    "    ottr:Triple(?SystemIRI, rdfs:label, ?Label)\n",
    "} .\n",
    "\n",
    "tpl:StaticProperty [?ParentIRI, ?ValueNodeIRI, ?Label, ?Value] :: {\n",
    "    ottr:Triple(?ParentIRI, otit:hasStaticProperty, ?ValueNodeIRI),\n",
    "    ottr:Triple(?ValueNodeIRI, rdfs:label, ?Label),\n",
    "    ottr:Triple(?ValueNodeIRI, otit:hasStaticValue, ?Value)\n",
    "} .\n",
    "\n",
    "tpl:Timeseries [?ParentIRI, ?TimeseriesNodeIRI, ?Label, ?ExternalId, ?Datatype] :: {\n",
    "    ottr:Triple(?ParentIRI, otit:hasTimeseries, ?TimeseriesNodeIRI),\n",
    "    ottr:Triple(?TimeseriesNodeIRI, otit:hasExternalId, ?ExternalId),\n",
    "    ottr:Triple(?TimeseriesNodeIRI, otit:hasDatatype, ?Datatype),\n",
    "    ottr:Triple(?TimeseriesNodeIRI, rdfs:label, ?Label)\n",
    "} .\n",
    "\"\"\""
   ]
  },
  {
   "cell_type": "code",
   "execution_count": 3,
   "id": "b73a3d9d",
   "metadata": {
    "pycharm": {
     "name": "#%%\n"
    }
   },
   "outputs": [],
   "source": [
    "n = 1_000"
   ]
  },
  {
   "cell_type": "markdown",
   "id": "d27c41fe",
   "metadata": {
    "pycharm": {
     "name": "#%% md\n"
    }
   },
   "source": [
    "# Mapping object"
   ]
  },
  {
   "cell_type": "code",
   "execution_count": 4,
   "id": "d34958bd",
   "metadata": {
    "pycharm": {
     "name": "#%%\n"
    }
   },
   "outputs": [],
   "source": [
    "mapping = Mapping([instance_mapping])"
   ]
  },
  {
   "cell_type": "code",
   "execution_count": 5,
   "id": "baf2b81f",
   "metadata": {
    "pycharm": {
     "name": "#%%\n"
    }
   },
   "outputs": [],
   "source": [
    "# Used as a prefix\n",
    "wpex = \"https://github.com/magbak/otit_swt/windpower_example#\""
   ]
  },
  {
   "cell_type": "code",
   "execution_count": 6,
   "id": "316f606a",
   "metadata": {
    "pycharm": {
     "name": "#%%\n"
    }
   },
   "outputs": [
    {
     "data": {
      "text/plain": "shape: (2, 2)\n┌───────┬─────────────────────────────────────┐\n│ Key   ┆ SiteIRI                             │\n│ ---   ┆ ---                                 │\n│ str   ┆ str                                 │\n╞═══════╪═════════════════════════════════════╡\n│ SiteA ┆ https://github.com/magbak/otit_s... │\n├╌╌╌╌╌╌╌┼╌╌╌╌╌╌╌╌╌╌╌╌╌╌╌╌╌╌╌╌╌╌╌╌╌╌╌╌╌╌╌╌╌╌╌╌╌┤\n│ SiteB ┆ https://github.com/magbak/otit_s... │\n└───────┴─────────────────────────────────────┘",
      "text/html": "<div>\n<style scoped>\n    .dataframe tbody tr th:only-of-type {\n        vertical-align: middle;\n    }\n\n    .dataframe tbody tr th {\n        vertical-align: top;\n    }\n\n    .dataframe thead th {\n        text-align: right;\n    }\n\n    .dataframe td {\n        white-space: pre;\n    }\n\n    .dataframe td {\n        padding-top: 0;\n    }\n\n    .dataframe td {\n        padding-bottom: 0;\n    }\n\n    .dataframe td {\n        line-height: 95%;\n    }\n</style>\n<table border=\"1\" class=\"dataframe\" >\n<small>shape: (2, 2)</small>\n<thead>\n<tr>\n<th>\nKey\n</th>\n<th>\nSiteIRI\n</th>\n</tr>\n<tr>\n<td>\nstr\n</td>\n<td>\nstr\n</td>\n</tr>\n</thead>\n<tbody>\n<tr>\n<td>\n\"SiteA\"\n</td>\n<td>\n\"https://github...\n</td>\n</tr>\n<tr>\n<td>\n\"SiteB\"\n</td>\n<td>\n\"https://github...\n</td>\n</tr>\n</tbody>\n</table>\n</div>"
     },
     "execution_count": 6,
     "metadata": {},
     "output_type": "execute_result"
    }
   ],
   "source": [
    "sites = pl.DataFrame({\"Key\":[\"SiteA\", \"SiteB\"], \"SiteName\": [\"Wind Mountain\", \"Gale Valley\"]})\n",
    "sites_mint_iris = {\"SiteIRI\":MintingOptions(prefix=wpex+\"Site\", numbering_suffix_start=0)}\n",
    "mapping.expand(\"tpl:Site\", sites, mint_iris=sites_mint_iris)"
   ]
  },
  {
   "cell_type": "markdown",
   "id": "db6a5460",
   "metadata": {
    "pycharm": {
     "name": "#%% md\n"
    }
   },
   "source": [
    "# Wind turbines"
   ]
  },
  {
   "cell_type": "code",
   "execution_count": 7,
   "id": "4591733d",
   "metadata": {
    "pycharm": {
     "name": "#%%\n"
    }
   },
   "outputs": [
    {
     "data": {
      "text/plain": "shape: (1000, 2)\n┌─────────────────┬─────────────────────────────────────┐\n│ Key             ┆ SystemIRI                           │\n│ ---             ┆ ---                                 │\n│ str             ┆ str                                 │\n╞═════════════════╪═════════════════════════════════════╡\n│ WindTurbine1    ┆ https://github.com/magbak/otit_s... │\n├╌╌╌╌╌╌╌╌╌╌╌╌╌╌╌╌╌┼╌╌╌╌╌╌╌╌╌╌╌╌╌╌╌╌╌╌╌╌╌╌╌╌╌╌╌╌╌╌╌╌╌╌╌╌╌┤\n│ WindTurbine2    ┆ https://github.com/magbak/otit_s... │\n├╌╌╌╌╌╌╌╌╌╌╌╌╌╌╌╌╌┼╌╌╌╌╌╌╌╌╌╌╌╌╌╌╌╌╌╌╌╌╌╌╌╌╌╌╌╌╌╌╌╌╌╌╌╌╌┤\n│ WindTurbine3    ┆ https://github.com/magbak/otit_s... │\n├╌╌╌╌╌╌╌╌╌╌╌╌╌╌╌╌╌┼╌╌╌╌╌╌╌╌╌╌╌╌╌╌╌╌╌╌╌╌╌╌╌╌╌╌╌╌╌╌╌╌╌╌╌╌╌┤\n│ WindTurbine4    ┆ https://github.com/magbak/otit_s... │\n├╌╌╌╌╌╌╌╌╌╌╌╌╌╌╌╌╌┼╌╌╌╌╌╌╌╌╌╌╌╌╌╌╌╌╌╌╌╌╌╌╌╌╌╌╌╌╌╌╌╌╌╌╌╌╌┤\n│ ...             ┆ ...                                 │\n├╌╌╌╌╌╌╌╌╌╌╌╌╌╌╌╌╌┼╌╌╌╌╌╌╌╌╌╌╌╌╌╌╌╌╌╌╌╌╌╌╌╌╌╌╌╌╌╌╌╌╌╌╌╌╌┤\n│ WindTurbine997  ┆ https://github.com/magbak/otit_s... │\n├╌╌╌╌╌╌╌╌╌╌╌╌╌╌╌╌╌┼╌╌╌╌╌╌╌╌╌╌╌╌╌╌╌╌╌╌╌╌╌╌╌╌╌╌╌╌╌╌╌╌╌╌╌╌╌┤\n│ WindTurbine998  ┆ https://github.com/magbak/otit_s... │\n├╌╌╌╌╌╌╌╌╌╌╌╌╌╌╌╌╌┼╌╌╌╌╌╌╌╌╌╌╌╌╌╌╌╌╌╌╌╌╌╌╌╌╌╌╌╌╌╌╌╌╌╌╌╌╌┤\n│ WindTurbine999  ┆ https://github.com/magbak/otit_s... │\n├╌╌╌╌╌╌╌╌╌╌╌╌╌╌╌╌╌┼╌╌╌╌╌╌╌╌╌╌╌╌╌╌╌╌╌╌╌╌╌╌╌╌╌╌╌╌╌╌╌╌╌╌╌╌╌┤\n│ WindTurbine1000 ┆ https://github.com/magbak/otit_s... │\n└─────────────────┴─────────────────────────────────────┘",
      "text/html": "<div>\n<style scoped>\n    .dataframe tbody tr th:only-of-type {\n        vertical-align: middle;\n    }\n\n    .dataframe tbody tr th {\n        vertical-align: top;\n    }\n\n    .dataframe thead th {\n        text-align: right;\n    }\n\n    .dataframe td {\n        white-space: pre;\n    }\n\n    .dataframe td {\n        padding-top: 0;\n    }\n\n    .dataframe td {\n        padding-bottom: 0;\n    }\n\n    .dataframe td {\n        line-height: 95%;\n    }\n</style>\n<table border=\"1\" class=\"dataframe\" >\n<small>shape: (1000, 2)</small>\n<thead>\n<tr>\n<th>\nKey\n</th>\n<th>\nSystemIRI\n</th>\n</tr>\n<tr>\n<td>\nstr\n</td>\n<td>\nstr\n</td>\n</tr>\n</thead>\n<tbody>\n<tr>\n<td>\n\"WindTurbine1\"\n</td>\n<td>\n\"https://github...\n</td>\n</tr>\n<tr>\n<td>\n\"WindTurbine2\"\n</td>\n<td>\n\"https://github...\n</td>\n</tr>\n<tr>\n<td>\n\"WindTurbine3\"\n</td>\n<td>\n\"https://github...\n</td>\n</tr>\n<tr>\n<td>\n\"WindTurbine4\"\n</td>\n<td>\n\"https://github...\n</td>\n</tr>\n<tr>\n<td>\n\"WindTurbine5\"\n</td>\n<td>\n\"https://github...\n</td>\n</tr>\n<tr>\n<td>\n\"WindTurbine6\"\n</td>\n<td>\n\"https://github...\n</td>\n</tr>\n<tr>\n<td>\n\"WindTurbine7\"\n</td>\n<td>\n\"https://github...\n</td>\n</tr>\n<tr>\n<td>\n\"WindTurbine8\"\n</td>\n<td>\n\"https://github...\n</td>\n</tr>\n<tr>\n<td>\n\"WindTurbine9\"\n</td>\n<td>\n\"https://github...\n</td>\n</tr>\n<tr>\n<td>\n\"WindTurbine10\"\n</td>\n<td>\n\"https://github...\n</td>\n</tr>\n<tr>\n<td>\n\"WindTurbine11\"\n</td>\n<td>\n\"https://github...\n</td>\n</tr>\n<tr>\n<td>\n\"WindTurbine12\"\n</td>\n<td>\n\"https://github...\n</td>\n</tr>\n<tr>\n<td>\n...\n</td>\n<td>\n...\n</td>\n</tr>\n<tr>\n<td>\n\"WindTurbine989...\n</td>\n<td>\n\"https://github...\n</td>\n</tr>\n<tr>\n<td>\n\"WindTurbine990...\n</td>\n<td>\n\"https://github...\n</td>\n</tr>\n<tr>\n<td>\n\"WindTurbine991...\n</td>\n<td>\n\"https://github...\n</td>\n</tr>\n<tr>\n<td>\n\"WindTurbine992...\n</td>\n<td>\n\"https://github...\n</td>\n</tr>\n<tr>\n<td>\n\"WindTurbine993...\n</td>\n<td>\n\"https://github...\n</td>\n</tr>\n<tr>\n<td>\n\"WindTurbine994...\n</td>\n<td>\n\"https://github...\n</td>\n</tr>\n<tr>\n<td>\n\"WindTurbine995...\n</td>\n<td>\n\"https://github...\n</td>\n</tr>\n<tr>\n<td>\n\"WindTurbine996...\n</td>\n<td>\n\"https://github...\n</td>\n</tr>\n<tr>\n<td>\n\"WindTurbine997...\n</td>\n<td>\n\"https://github...\n</td>\n</tr>\n<tr>\n<td>\n\"WindTurbine998...\n</td>\n<td>\n\"https://github...\n</td>\n</tr>\n<tr>\n<td>\n\"WindTurbine999...\n</td>\n<td>\n\"https://github...\n</td>\n</tr>\n<tr>\n<td>\n\"WindTurbine100...\n</td>\n<td>\n\"https://github...\n</td>\n</tr>\n</tbody>\n</table>\n</div>"
     },
     "execution_count": 7,
     "metadata": {},
     "output_type": "execute_result"
    }
   ],
   "source": [
    "wind_turbine_keys = [\"WindTurbine\" + str(i) for i in range(1,n+1)]\n",
    "wind_turbines = pl.DataFrame(\n",
    "    {\n",
    "    \"Key\":wind_turbine_keys,\n",
    "    \"RDSType\": [\"A\"]*n,\n",
    "    \"Label\": [\"Wind turbine \" + str(i) for i in range(1,n+1)]\n",
    "    })\n",
    "wind_turbines_mint_iris = {\n",
    "    \"SystemIRI\":MintingOptions(\n",
    "        prefix=wpex + \"WindTurbine\", numbering_suffix_start=1),\n",
    "    }\n",
    "mapping.expand(\"tpl:RDSSystem\", wind_turbines, \n",
    "               mint_iris=wind_turbines_mint_iris)"
   ]
  },
  {
   "cell_type": "code",
   "execution_count": 8,
   "id": "a6f2a2a0",
   "metadata": {
    "pycharm": {
     "name": "#%%\n"
    }
   },
   "outputs": [
    {
     "data": {
      "text/plain": "shape: (1000, 2)\n┌───────────────────────────┬─────────────────────────────────────┐\n│ Key                       ┆ TimeseriesNodeIRI                   │\n│ ---                       ┆ ---                                 │\n│ str                       ┆ str                                 │\n╞═══════════════════════════╪═════════════════════════════════════╡\n│ WindTurbine1_operating    ┆ https://github.com/magbak/otit_s... │\n├╌╌╌╌╌╌╌╌╌╌╌╌╌╌╌╌╌╌╌╌╌╌╌╌╌╌╌┼╌╌╌╌╌╌╌╌╌╌╌╌╌╌╌╌╌╌╌╌╌╌╌╌╌╌╌╌╌╌╌╌╌╌╌╌╌┤\n│ WindTurbine2_operating    ┆ https://github.com/magbak/otit_s... │\n├╌╌╌╌╌╌╌╌╌╌╌╌╌╌╌╌╌╌╌╌╌╌╌╌╌╌╌┼╌╌╌╌╌╌╌╌╌╌╌╌╌╌╌╌╌╌╌╌╌╌╌╌╌╌╌╌╌╌╌╌╌╌╌╌╌┤\n│ WindTurbine3_operating    ┆ https://github.com/magbak/otit_s... │\n├╌╌╌╌╌╌╌╌╌╌╌╌╌╌╌╌╌╌╌╌╌╌╌╌╌╌╌┼╌╌╌╌╌╌╌╌╌╌╌╌╌╌╌╌╌╌╌╌╌╌╌╌╌╌╌╌╌╌╌╌╌╌╌╌╌┤\n│ WindTurbine4_operating    ┆ https://github.com/magbak/otit_s... │\n├╌╌╌╌╌╌╌╌╌╌╌╌╌╌╌╌╌╌╌╌╌╌╌╌╌╌╌┼╌╌╌╌╌╌╌╌╌╌╌╌╌╌╌╌╌╌╌╌╌╌╌╌╌╌╌╌╌╌╌╌╌╌╌╌╌┤\n│ ...                       ┆ ...                                 │\n├╌╌╌╌╌╌╌╌╌╌╌╌╌╌╌╌╌╌╌╌╌╌╌╌╌╌╌┼╌╌╌╌╌╌╌╌╌╌╌╌╌╌╌╌╌╌╌╌╌╌╌╌╌╌╌╌╌╌╌╌╌╌╌╌╌┤\n│ WindTurbine997_operating  ┆ https://github.com/magbak/otit_s... │\n├╌╌╌╌╌╌╌╌╌╌╌╌╌╌╌╌╌╌╌╌╌╌╌╌╌╌╌┼╌╌╌╌╌╌╌╌╌╌╌╌╌╌╌╌╌╌╌╌╌╌╌╌╌╌╌╌╌╌╌╌╌╌╌╌╌┤\n│ WindTurbine998_operating  ┆ https://github.com/magbak/otit_s... │\n├╌╌╌╌╌╌╌╌╌╌╌╌╌╌╌╌╌╌╌╌╌╌╌╌╌╌╌┼╌╌╌╌╌╌╌╌╌╌╌╌╌╌╌╌╌╌╌╌╌╌╌╌╌╌╌╌╌╌╌╌╌╌╌╌╌┤\n│ WindTurbine999_operating  ┆ https://github.com/magbak/otit_s... │\n├╌╌╌╌╌╌╌╌╌╌╌╌╌╌╌╌╌╌╌╌╌╌╌╌╌╌╌┼╌╌╌╌╌╌╌╌╌╌╌╌╌╌╌╌╌╌╌╌╌╌╌╌╌╌╌╌╌╌╌╌╌╌╌╌╌┤\n│ WindTurbine1000_operating ┆ https://github.com/magbak/otit_s... │\n└───────────────────────────┴─────────────────────────────────────┘",
      "text/html": "<div>\n<style scoped>\n    .dataframe tbody tr th:only-of-type {\n        vertical-align: middle;\n    }\n\n    .dataframe tbody tr th {\n        vertical-align: top;\n    }\n\n    .dataframe thead th {\n        text-align: right;\n    }\n\n    .dataframe td {\n        white-space: pre;\n    }\n\n    .dataframe td {\n        padding-top: 0;\n    }\n\n    .dataframe td {\n        padding-bottom: 0;\n    }\n\n    .dataframe td {\n        line-height: 95%;\n    }\n</style>\n<table border=\"1\" class=\"dataframe\" >\n<small>shape: (1000, 2)</small>\n<thead>\n<tr>\n<th>\nKey\n</th>\n<th>\nTimeseriesNodeIRI\n</th>\n</tr>\n<tr>\n<td>\nstr\n</td>\n<td>\nstr\n</td>\n</tr>\n</thead>\n<tbody>\n<tr>\n<td>\n\"WindTurbine1_o...\n</td>\n<td>\n\"https://github...\n</td>\n</tr>\n<tr>\n<td>\n\"WindTurbine2_o...\n</td>\n<td>\n\"https://github...\n</td>\n</tr>\n<tr>\n<td>\n\"WindTurbine3_o...\n</td>\n<td>\n\"https://github...\n</td>\n</tr>\n<tr>\n<td>\n\"WindTurbine4_o...\n</td>\n<td>\n\"https://github...\n</td>\n</tr>\n<tr>\n<td>\n\"WindTurbine5_o...\n</td>\n<td>\n\"https://github...\n</td>\n</tr>\n<tr>\n<td>\n\"WindTurbine6_o...\n</td>\n<td>\n\"https://github...\n</td>\n</tr>\n<tr>\n<td>\n\"WindTurbine7_o...\n</td>\n<td>\n\"https://github...\n</td>\n</tr>\n<tr>\n<td>\n\"WindTurbine8_o...\n</td>\n<td>\n\"https://github...\n</td>\n</tr>\n<tr>\n<td>\n\"WindTurbine9_o...\n</td>\n<td>\n\"https://github...\n</td>\n</tr>\n<tr>\n<td>\n\"WindTurbine10_...\n</td>\n<td>\n\"https://github...\n</td>\n</tr>\n<tr>\n<td>\n\"WindTurbine11_...\n</td>\n<td>\n\"https://github...\n</td>\n</tr>\n<tr>\n<td>\n\"WindTurbine12_...\n</td>\n<td>\n\"https://github...\n</td>\n</tr>\n<tr>\n<td>\n...\n</td>\n<td>\n...\n</td>\n</tr>\n<tr>\n<td>\n\"WindTurbine989...\n</td>\n<td>\n\"https://github...\n</td>\n</tr>\n<tr>\n<td>\n\"WindTurbine990...\n</td>\n<td>\n\"https://github...\n</td>\n</tr>\n<tr>\n<td>\n\"WindTurbine991...\n</td>\n<td>\n\"https://github...\n</td>\n</tr>\n<tr>\n<td>\n\"WindTurbine992...\n</td>\n<td>\n\"https://github...\n</td>\n</tr>\n<tr>\n<td>\n\"WindTurbine993...\n</td>\n<td>\n\"https://github...\n</td>\n</tr>\n<tr>\n<td>\n\"WindTurbine994...\n</td>\n<td>\n\"https://github...\n</td>\n</tr>\n<tr>\n<td>\n\"WindTurbine995...\n</td>\n<td>\n\"https://github...\n</td>\n</tr>\n<tr>\n<td>\n\"WindTurbine996...\n</td>\n<td>\n\"https://github...\n</td>\n</tr>\n<tr>\n<td>\n\"WindTurbine997...\n</td>\n<td>\n\"https://github...\n</td>\n</tr>\n<tr>\n<td>\n\"WindTurbine998...\n</td>\n<td>\n\"https://github...\n</td>\n</tr>\n<tr>\n<td>\n\"WindTurbine999...\n</td>\n<td>\n\"https://github...\n</td>\n</tr>\n<tr>\n<td>\n\"WindTurbine100...\n</td>\n<td>\n\"https://github...\n</td>\n</tr>\n</tbody>\n</table>\n</div>"
     },
     "execution_count": 8,
     "metadata": {},
     "output_type": "execute_result"
    }
   ],
   "source": [
    "operating_external_ids = [\"oper\" + str(i) for i in range(1,n+1)]\n",
    "operating = pl.DataFrame ({\n",
    "    \"Key\": [k + \"_operating\" for k in wind_turbine_keys],\n",
    "    \"Label\": [\"Operating\"]*n,\n",
    "    \"ParentIRIKey\" :wind_turbine_keys,\n",
    "    \"ExternalId\": operating_external_ids,\n",
    "    \"Datatype\": [\"http://www.w3.org/2001/XMLSchema#boolean\"]*n\n",
    "})\n",
    "operating_mint_iris = {\n",
    "    \"TimeseriesNodeIRI\": MintingOptions(prefix=wpex + \"Operating\",\n",
    "                                        numbering_suffix_start=1)\n",
    "}\n",
    "operating_resolve_iris = {\n",
    "    \"ParentIRI\": ResolveIRI(key_column=\"ParentIRIKey\", \n",
    "                           template=\"tpl:RDSSystem\",\n",
    "                           argument=\"SystemIRI\")\n",
    "}\n",
    "mapping.expand(\"tpl:Timeseries\", operating, \n",
    "               mint_iris=operating_mint_iris,\n",
    "              resolve_iris=operating_resolve_iris)"
   ]
  },
  {
   "cell_type": "code",
   "execution_count": 9,
   "id": "26b2ed52",
   "metadata": {
    "pycharm": {
     "name": "#%%\n"
    }
   },
   "outputs": [
    {
     "data": {
      "text/plain": "shape: (1000, 2)\n┌──────────────────────────┬─────────────────────────────────────┐\n│ Key                      ┆ ValueNodeIRI                        │\n│ ---                      ┆ ---                                 │\n│ str                      ┆ str                                 │\n╞══════════════════════════╪═════════════════════════════════════╡\n│ WindTurbine1_maxpower    ┆ https://github.com/magbak/otit_s... │\n├╌╌╌╌╌╌╌╌╌╌╌╌╌╌╌╌╌╌╌╌╌╌╌╌╌╌┼╌╌╌╌╌╌╌╌╌╌╌╌╌╌╌╌╌╌╌╌╌╌╌╌╌╌╌╌╌╌╌╌╌╌╌╌╌┤\n│ WindTurbine2_maxpower    ┆ https://github.com/magbak/otit_s... │\n├╌╌╌╌╌╌╌╌╌╌╌╌╌╌╌╌╌╌╌╌╌╌╌╌╌╌┼╌╌╌╌╌╌╌╌╌╌╌╌╌╌╌╌╌╌╌╌╌╌╌╌╌╌╌╌╌╌╌╌╌╌╌╌╌┤\n│ WindTurbine3_maxpower    ┆ https://github.com/magbak/otit_s... │\n├╌╌╌╌╌╌╌╌╌╌╌╌╌╌╌╌╌╌╌╌╌╌╌╌╌╌┼╌╌╌╌╌╌╌╌╌╌╌╌╌╌╌╌╌╌╌╌╌╌╌╌╌╌╌╌╌╌╌╌╌╌╌╌╌┤\n│ WindTurbine4_maxpower    ┆ https://github.com/magbak/otit_s... │\n├╌╌╌╌╌╌╌╌╌╌╌╌╌╌╌╌╌╌╌╌╌╌╌╌╌╌┼╌╌╌╌╌╌╌╌╌╌╌╌╌╌╌╌╌╌╌╌╌╌╌╌╌╌╌╌╌╌╌╌╌╌╌╌╌┤\n│ ...                      ┆ ...                                 │\n├╌╌╌╌╌╌╌╌╌╌╌╌╌╌╌╌╌╌╌╌╌╌╌╌╌╌┼╌╌╌╌╌╌╌╌╌╌╌╌╌╌╌╌╌╌╌╌╌╌╌╌╌╌╌╌╌╌╌╌╌╌╌╌╌┤\n│ WindTurbine997_maxpower  ┆ https://github.com/magbak/otit_s... │\n├╌╌╌╌╌╌╌╌╌╌╌╌╌╌╌╌╌╌╌╌╌╌╌╌╌╌┼╌╌╌╌╌╌╌╌╌╌╌╌╌╌╌╌╌╌╌╌╌╌╌╌╌╌╌╌╌╌╌╌╌╌╌╌╌┤\n│ WindTurbine998_maxpower  ┆ https://github.com/magbak/otit_s... │\n├╌╌╌╌╌╌╌╌╌╌╌╌╌╌╌╌╌╌╌╌╌╌╌╌╌╌┼╌╌╌╌╌╌╌╌╌╌╌╌╌╌╌╌╌╌╌╌╌╌╌╌╌╌╌╌╌╌╌╌╌╌╌╌╌┤\n│ WindTurbine999_maxpower  ┆ https://github.com/magbak/otit_s... │\n├╌╌╌╌╌╌╌╌╌╌╌╌╌╌╌╌╌╌╌╌╌╌╌╌╌╌┼╌╌╌╌╌╌╌╌╌╌╌╌╌╌╌╌╌╌╌╌╌╌╌╌╌╌╌╌╌╌╌╌╌╌╌╌╌┤\n│ WindTurbine1000_maxpower ┆ https://github.com/magbak/otit_s... │\n└──────────────────────────┴─────────────────────────────────────┘",
      "text/html": "<div>\n<style scoped>\n    .dataframe tbody tr th:only-of-type {\n        vertical-align: middle;\n    }\n\n    .dataframe tbody tr th {\n        vertical-align: top;\n    }\n\n    .dataframe thead th {\n        text-align: right;\n    }\n\n    .dataframe td {\n        white-space: pre;\n    }\n\n    .dataframe td {\n        padding-top: 0;\n    }\n\n    .dataframe td {\n        padding-bottom: 0;\n    }\n\n    .dataframe td {\n        line-height: 95%;\n    }\n</style>\n<table border=\"1\" class=\"dataframe\" >\n<small>shape: (1000, 2)</small>\n<thead>\n<tr>\n<th>\nKey\n</th>\n<th>\nValueNodeIRI\n</th>\n</tr>\n<tr>\n<td>\nstr\n</td>\n<td>\nstr\n</td>\n</tr>\n</thead>\n<tbody>\n<tr>\n<td>\n\"WindTurbine1_m...\n</td>\n<td>\n\"https://github...\n</td>\n</tr>\n<tr>\n<td>\n\"WindTurbine2_m...\n</td>\n<td>\n\"https://github...\n</td>\n</tr>\n<tr>\n<td>\n\"WindTurbine3_m...\n</td>\n<td>\n\"https://github...\n</td>\n</tr>\n<tr>\n<td>\n\"WindTurbine4_m...\n</td>\n<td>\n\"https://github...\n</td>\n</tr>\n<tr>\n<td>\n\"WindTurbine5_m...\n</td>\n<td>\n\"https://github...\n</td>\n</tr>\n<tr>\n<td>\n\"WindTurbine6_m...\n</td>\n<td>\n\"https://github...\n</td>\n</tr>\n<tr>\n<td>\n\"WindTurbine7_m...\n</td>\n<td>\n\"https://github...\n</td>\n</tr>\n<tr>\n<td>\n\"WindTurbine8_m...\n</td>\n<td>\n\"https://github...\n</td>\n</tr>\n<tr>\n<td>\n\"WindTurbine9_m...\n</td>\n<td>\n\"https://github...\n</td>\n</tr>\n<tr>\n<td>\n\"WindTurbine10_...\n</td>\n<td>\n\"https://github...\n</td>\n</tr>\n<tr>\n<td>\n\"WindTurbine11_...\n</td>\n<td>\n\"https://github...\n</td>\n</tr>\n<tr>\n<td>\n\"WindTurbine12_...\n</td>\n<td>\n\"https://github...\n</td>\n</tr>\n<tr>\n<td>\n...\n</td>\n<td>\n...\n</td>\n</tr>\n<tr>\n<td>\n\"WindTurbine989...\n</td>\n<td>\n\"https://github...\n</td>\n</tr>\n<tr>\n<td>\n\"WindTurbine990...\n</td>\n<td>\n\"https://github...\n</td>\n</tr>\n<tr>\n<td>\n\"WindTurbine991...\n</td>\n<td>\n\"https://github...\n</td>\n</tr>\n<tr>\n<td>\n\"WindTurbine992...\n</td>\n<td>\n\"https://github...\n</td>\n</tr>\n<tr>\n<td>\n\"WindTurbine993...\n</td>\n<td>\n\"https://github...\n</td>\n</tr>\n<tr>\n<td>\n\"WindTurbine994...\n</td>\n<td>\n\"https://github...\n</td>\n</tr>\n<tr>\n<td>\n\"WindTurbine995...\n</td>\n<td>\n\"https://github...\n</td>\n</tr>\n<tr>\n<td>\n\"WindTurbine996...\n</td>\n<td>\n\"https://github...\n</td>\n</tr>\n<tr>\n<td>\n\"WindTurbine997...\n</td>\n<td>\n\"https://github...\n</td>\n</tr>\n<tr>\n<td>\n\"WindTurbine998...\n</td>\n<td>\n\"https://github...\n</td>\n</tr>\n<tr>\n<td>\n\"WindTurbine999...\n</td>\n<td>\n\"https://github...\n</td>\n</tr>\n<tr>\n<td>\n\"WindTurbine100...\n</td>\n<td>\n\"https://github...\n</td>\n</tr>\n</tbody>\n</table>\n</div>"
     },
     "execution_count": 9,
     "metadata": {},
     "output_type": "execute_result"
    }
   ],
   "source": [
    "maximum_power_values = [[5_000_000,10_000_000,15_000_000][i%3] for i in range(1,n+1)]\n",
    "maximum_power = pl.DataFrame ({\n",
    "    \"Key\": [k + \"_maxpower\" for k in wind_turbine_keys],\n",
    "    \"Label\": [\"Maximum Power\"] * n,\n",
    "    \"Value\": maximum_power_values,\n",
    "    \"ParentIRIKey\": wind_turbine_keys,\n",
    "})\n",
    "maximum_power_mint_iris = {\n",
    "    \"ValueNodeIRI\":MintingOptions(\n",
    "        prefix=wpex + \"WindTurbineMaximumPower\", numbering_suffix_start=1),\n",
    "    }\n",
    "maximum_power_resolve_iris = {\n",
    "    \"ParentIRI\": ResolveIRI(key_column=\"ParentIRIKey\",\n",
    "                           template=\"tpl:RDSSystem\",\n",
    "                           argument=\"SystemIRI\")\n",
    "}\n",
    "mapping.expand(\"tpl:StaticProperty\", \n",
    "               df=maximum_power,\n",
    "               mint_iris=maximum_power_mint_iris,\n",
    "               resolve_iris=maximum_power_resolve_iris)"
   ]
  },
  {
   "cell_type": "code",
   "execution_count": 10,
   "id": "7d9f2f67",
   "metadata": {
    "pycharm": {
     "name": "#%%\n"
    }
   },
   "outputs": [
    {
     "data": {
      "text/plain": "shape: (1000, 2)\n┌───────────────────────┬─────────────────────────────────────┐\n│ Key                   ┆ TargetAspectNodeIRI                 │\n│ ---                   ┆ ---                                 │\n│ str                   ┆ str                                 │\n╞═══════════════════════╪═════════════════════════════════════╡\n│ SiteB_WindTurbine1    ┆ https://github.com/magbak/otit_s... │\n├╌╌╌╌╌╌╌╌╌╌╌╌╌╌╌╌╌╌╌╌╌╌╌┼╌╌╌╌╌╌╌╌╌╌╌╌╌╌╌╌╌╌╌╌╌╌╌╌╌╌╌╌╌╌╌╌╌╌╌╌╌┤\n│ SiteA_WindTurbine2    ┆ https://github.com/magbak/otit_s... │\n├╌╌╌╌╌╌╌╌╌╌╌╌╌╌╌╌╌╌╌╌╌╌╌┼╌╌╌╌╌╌╌╌╌╌╌╌╌╌╌╌╌╌╌╌╌╌╌╌╌╌╌╌╌╌╌╌╌╌╌╌╌┤\n│ SiteB_WindTurbine3    ┆ https://github.com/magbak/otit_s... │\n├╌╌╌╌╌╌╌╌╌╌╌╌╌╌╌╌╌╌╌╌╌╌╌┼╌╌╌╌╌╌╌╌╌╌╌╌╌╌╌╌╌╌╌╌╌╌╌╌╌╌╌╌╌╌╌╌╌╌╌╌╌┤\n│ SiteA_WindTurbine4    ┆ https://github.com/magbak/otit_s... │\n├╌╌╌╌╌╌╌╌╌╌╌╌╌╌╌╌╌╌╌╌╌╌╌┼╌╌╌╌╌╌╌╌╌╌╌╌╌╌╌╌╌╌╌╌╌╌╌╌╌╌╌╌╌╌╌╌╌╌╌╌╌┤\n│ ...                   ┆ ...                                 │\n├╌╌╌╌╌╌╌╌╌╌╌╌╌╌╌╌╌╌╌╌╌╌╌┼╌╌╌╌╌╌╌╌╌╌╌╌╌╌╌╌╌╌╌╌╌╌╌╌╌╌╌╌╌╌╌╌╌╌╌╌╌┤\n│ SiteB_WindTurbine997  ┆ https://github.com/magbak/otit_s... │\n├╌╌╌╌╌╌╌╌╌╌╌╌╌╌╌╌╌╌╌╌╌╌╌┼╌╌╌╌╌╌╌╌╌╌╌╌╌╌╌╌╌╌╌╌╌╌╌╌╌╌╌╌╌╌╌╌╌╌╌╌╌┤\n│ SiteA_WindTurbine998  ┆ https://github.com/magbak/otit_s... │\n├╌╌╌╌╌╌╌╌╌╌╌╌╌╌╌╌╌╌╌╌╌╌╌┼╌╌╌╌╌╌╌╌╌╌╌╌╌╌╌╌╌╌╌╌╌╌╌╌╌╌╌╌╌╌╌╌╌╌╌╌╌┤\n│ SiteB_WindTurbine999  ┆ https://github.com/magbak/otit_s... │\n├╌╌╌╌╌╌╌╌╌╌╌╌╌╌╌╌╌╌╌╌╌╌╌┼╌╌╌╌╌╌╌╌╌╌╌╌╌╌╌╌╌╌╌╌╌╌╌╌╌╌╌╌╌╌╌╌╌╌╌╌╌┤\n│ SiteA_WindTurbine1000 ┆ https://github.com/magbak/otit_s... │\n└───────────────────────┴─────────────────────────────────────┘",
      "text/html": "<div>\n<style scoped>\n    .dataframe tbody tr th:only-of-type {\n        vertical-align: middle;\n    }\n\n    .dataframe tbody tr th {\n        vertical-align: top;\n    }\n\n    .dataframe thead th {\n        text-align: right;\n    }\n\n    .dataframe td {\n        white-space: pre;\n    }\n\n    .dataframe td {\n        padding-top: 0;\n    }\n\n    .dataframe td {\n        padding-bottom: 0;\n    }\n\n    .dataframe td {\n        line-height: 95%;\n    }\n</style>\n<table border=\"1\" class=\"dataframe\" >\n<small>shape: (1000, 2)</small>\n<thead>\n<tr>\n<th>\nKey\n</th>\n<th>\nTargetAspectNodeIRI\n</th>\n</tr>\n<tr>\n<td>\nstr\n</td>\n<td>\nstr\n</td>\n</tr>\n</thead>\n<tbody>\n<tr>\n<td>\n\"SiteB_WindTurb...\n</td>\n<td>\n\"https://github...\n</td>\n</tr>\n<tr>\n<td>\n\"SiteA_WindTurb...\n</td>\n<td>\n\"https://github...\n</td>\n</tr>\n<tr>\n<td>\n\"SiteB_WindTurb...\n</td>\n<td>\n\"https://github...\n</td>\n</tr>\n<tr>\n<td>\n\"SiteA_WindTurb...\n</td>\n<td>\n\"https://github...\n</td>\n</tr>\n<tr>\n<td>\n\"SiteB_WindTurb...\n</td>\n<td>\n\"https://github...\n</td>\n</tr>\n<tr>\n<td>\n\"SiteA_WindTurb...\n</td>\n<td>\n\"https://github...\n</td>\n</tr>\n<tr>\n<td>\n\"SiteB_WindTurb...\n</td>\n<td>\n\"https://github...\n</td>\n</tr>\n<tr>\n<td>\n\"SiteA_WindTurb...\n</td>\n<td>\n\"https://github...\n</td>\n</tr>\n<tr>\n<td>\n\"SiteB_WindTurb...\n</td>\n<td>\n\"https://github...\n</td>\n</tr>\n<tr>\n<td>\n\"SiteA_WindTurb...\n</td>\n<td>\n\"https://github...\n</td>\n</tr>\n<tr>\n<td>\n\"SiteB_WindTurb...\n</td>\n<td>\n\"https://github...\n</td>\n</tr>\n<tr>\n<td>\n\"SiteA_WindTurb...\n</td>\n<td>\n\"https://github...\n</td>\n</tr>\n<tr>\n<td>\n...\n</td>\n<td>\n...\n</td>\n</tr>\n<tr>\n<td>\n\"SiteB_WindTurb...\n</td>\n<td>\n\"https://github...\n</td>\n</tr>\n<tr>\n<td>\n\"SiteA_WindTurb...\n</td>\n<td>\n\"https://github...\n</td>\n</tr>\n<tr>\n<td>\n\"SiteB_WindTurb...\n</td>\n<td>\n\"https://github...\n</td>\n</tr>\n<tr>\n<td>\n\"SiteA_WindTurb...\n</td>\n<td>\n\"https://github...\n</td>\n</tr>\n<tr>\n<td>\n\"SiteB_WindTurb...\n</td>\n<td>\n\"https://github...\n</td>\n</tr>\n<tr>\n<td>\n\"SiteA_WindTurb...\n</td>\n<td>\n\"https://github...\n</td>\n</tr>\n<tr>\n<td>\n\"SiteB_WindTurb...\n</td>\n<td>\n\"https://github...\n</td>\n</tr>\n<tr>\n<td>\n\"SiteA_WindTurb...\n</td>\n<td>\n\"https://github...\n</td>\n</tr>\n<tr>\n<td>\n\"SiteB_WindTurb...\n</td>\n<td>\n\"https://github...\n</td>\n</tr>\n<tr>\n<td>\n\"SiteA_WindTurb...\n</td>\n<td>\n\"https://github...\n</td>\n</tr>\n<tr>\n<td>\n\"SiteB_WindTurb...\n</td>\n<td>\n\"https://github...\n</td>\n</tr>\n<tr>\n<td>\n\"SiteA_WindTurb...\n</td>\n<td>\n\"https://github...\n</td>\n</tr>\n</tbody>\n</table>\n</div>"
     },
     "execution_count": 10,
     "metadata": {},
     "output_type": "execute_result"
    }
   ],
   "source": [
    "site_has_wind_turbine = pl.DataFrame({\n",
    "    \"SourceIRIKey\":[\"SiteA\" if i%2 == 0 else \"SiteB\" for i in range(1,n+1)],\n",
    "    \"TargetIRIKey\":wind_turbine_keys,\n",
    "    \"Label\": [\"A\" + str(int(floor(i/2))+i%2) for i in range(1,n+1)],\n",
    "})\n",
    "site_has_wind_turbine[\"Key\"] = site_has_wind_turbine[\"SourceIRIKey\"] + \"_\" + site_has_wind_turbine[\"TargetIRIKey\"]\n",
    "site_has_wind_turbine_mint_iris = {\n",
    "    \"TargetAspectNodeIRI\": MintingOptions(\n",
    "        prefix= wpex + \"WindTurbineFunctionalAspect\", \n",
    "        numbering_suffix_start=1)}\n",
    "site_has_wind_turbine_resolve_iris = {\n",
    "    \"SourceIRI\":ResolveIRI(key_column=\"SourceIRIKey\",\n",
    "                           template=\"tpl:Site\",\n",
    "                           argument=\"SiteIRI\"\n",
    "                          ),\n",
    "    \"TargetIRI\":ResolveIRI(key_column=\"TargetIRIKey\",\n",
    "                           template=\"tpl:RDSSystem\",\n",
    "                           argument=\"SystemIRI\"\n",
    "                          ),\n",
    "}\n",
    "mapping.expand(\"tpl:FunctionalAspect\", site_has_wind_turbine, \n",
    "               mint_iris=site_has_wind_turbine_mint_iris, \n",
    "               resolve_iris=site_has_wind_turbine_resolve_iris)"
   ]
  },
  {
   "cell_type": "markdown",
   "id": "66b7e732",
   "metadata": {
    "pycharm": {
     "name": "#%% md\n"
    }
   },
   "source": [
    "# Generator systems"
   ]
  },
  {
   "cell_type": "code",
   "execution_count": 11,
   "id": "fd84a006",
   "metadata": {
    "pycharm": {
     "name": "#%%\n"
    }
   },
   "outputs": [
    {
     "data": {
      "text/plain": "shape: (1000, 2)\n┌─────────────────────┬─────────────────────────────────────┐\n│ Key                 ┆ SystemIRI                           │\n│ ---                 ┆ ---                                 │\n│ str                 ┆ str                                 │\n╞═════════════════════╪═════════════════════════════════════╡\n│ GeneratorSystem1    ┆ https://github.com/magbak/otit_s... │\n├╌╌╌╌╌╌╌╌╌╌╌╌╌╌╌╌╌╌╌╌╌┼╌╌╌╌╌╌╌╌╌╌╌╌╌╌╌╌╌╌╌╌╌╌╌╌╌╌╌╌╌╌╌╌╌╌╌╌╌┤\n│ GeneratorSystem2    ┆ https://github.com/magbak/otit_s... │\n├╌╌╌╌╌╌╌╌╌╌╌╌╌╌╌╌╌╌╌╌╌┼╌╌╌╌╌╌╌╌╌╌╌╌╌╌╌╌╌╌╌╌╌╌╌╌╌╌╌╌╌╌╌╌╌╌╌╌╌┤\n│ GeneratorSystem3    ┆ https://github.com/magbak/otit_s... │\n├╌╌╌╌╌╌╌╌╌╌╌╌╌╌╌╌╌╌╌╌╌┼╌╌╌╌╌╌╌╌╌╌╌╌╌╌╌╌╌╌╌╌╌╌╌╌╌╌╌╌╌╌╌╌╌╌╌╌╌┤\n│ GeneratorSystem4    ┆ https://github.com/magbak/otit_s... │\n├╌╌╌╌╌╌╌╌╌╌╌╌╌╌╌╌╌╌╌╌╌┼╌╌╌╌╌╌╌╌╌╌╌╌╌╌╌╌╌╌╌╌╌╌╌╌╌╌╌╌╌╌╌╌╌╌╌╌╌┤\n│ ...                 ┆ ...                                 │\n├╌╌╌╌╌╌╌╌╌╌╌╌╌╌╌╌╌╌╌╌╌┼╌╌╌╌╌╌╌╌╌╌╌╌╌╌╌╌╌╌╌╌╌╌╌╌╌╌╌╌╌╌╌╌╌╌╌╌╌┤\n│ GeneratorSystem997  ┆ https://github.com/magbak/otit_s... │\n├╌╌╌╌╌╌╌╌╌╌╌╌╌╌╌╌╌╌╌╌╌┼╌╌╌╌╌╌╌╌╌╌╌╌╌╌╌╌╌╌╌╌╌╌╌╌╌╌╌╌╌╌╌╌╌╌╌╌╌┤\n│ GeneratorSystem998  ┆ https://github.com/magbak/otit_s... │\n├╌╌╌╌╌╌╌╌╌╌╌╌╌╌╌╌╌╌╌╌╌┼╌╌╌╌╌╌╌╌╌╌╌╌╌╌╌╌╌╌╌╌╌╌╌╌╌╌╌╌╌╌╌╌╌╌╌╌╌┤\n│ GeneratorSystem999  ┆ https://github.com/magbak/otit_s... │\n├╌╌╌╌╌╌╌╌╌╌╌╌╌╌╌╌╌╌╌╌╌┼╌╌╌╌╌╌╌╌╌╌╌╌╌╌╌╌╌╌╌╌╌╌╌╌╌╌╌╌╌╌╌╌╌╌╌╌╌┤\n│ GeneratorSystem1000 ┆ https://github.com/magbak/otit_s... │\n└─────────────────────┴─────────────────────────────────────┘",
      "text/html": "<div>\n<style scoped>\n    .dataframe tbody tr th:only-of-type {\n        vertical-align: middle;\n    }\n\n    .dataframe tbody tr th {\n        vertical-align: top;\n    }\n\n    .dataframe thead th {\n        text-align: right;\n    }\n\n    .dataframe td {\n        white-space: pre;\n    }\n\n    .dataframe td {\n        padding-top: 0;\n    }\n\n    .dataframe td {\n        padding-bottom: 0;\n    }\n\n    .dataframe td {\n        line-height: 95%;\n    }\n</style>\n<table border=\"1\" class=\"dataframe\" >\n<small>shape: (1000, 2)</small>\n<thead>\n<tr>\n<th>\nKey\n</th>\n<th>\nSystemIRI\n</th>\n</tr>\n<tr>\n<td>\nstr\n</td>\n<td>\nstr\n</td>\n</tr>\n</thead>\n<tbody>\n<tr>\n<td>\n\"GeneratorSyste...\n</td>\n<td>\n\"https://github...\n</td>\n</tr>\n<tr>\n<td>\n\"GeneratorSyste...\n</td>\n<td>\n\"https://github...\n</td>\n</tr>\n<tr>\n<td>\n\"GeneratorSyste...\n</td>\n<td>\n\"https://github...\n</td>\n</tr>\n<tr>\n<td>\n\"GeneratorSyste...\n</td>\n<td>\n\"https://github...\n</td>\n</tr>\n<tr>\n<td>\n\"GeneratorSyste...\n</td>\n<td>\n\"https://github...\n</td>\n</tr>\n<tr>\n<td>\n\"GeneratorSyste...\n</td>\n<td>\n\"https://github...\n</td>\n</tr>\n<tr>\n<td>\n\"GeneratorSyste...\n</td>\n<td>\n\"https://github...\n</td>\n</tr>\n<tr>\n<td>\n\"GeneratorSyste...\n</td>\n<td>\n\"https://github...\n</td>\n</tr>\n<tr>\n<td>\n\"GeneratorSyste...\n</td>\n<td>\n\"https://github...\n</td>\n</tr>\n<tr>\n<td>\n\"GeneratorSyste...\n</td>\n<td>\n\"https://github...\n</td>\n</tr>\n<tr>\n<td>\n\"GeneratorSyste...\n</td>\n<td>\n\"https://github...\n</td>\n</tr>\n<tr>\n<td>\n\"GeneratorSyste...\n</td>\n<td>\n\"https://github...\n</td>\n</tr>\n<tr>\n<td>\n...\n</td>\n<td>\n...\n</td>\n</tr>\n<tr>\n<td>\n\"GeneratorSyste...\n</td>\n<td>\n\"https://github...\n</td>\n</tr>\n<tr>\n<td>\n\"GeneratorSyste...\n</td>\n<td>\n\"https://github...\n</td>\n</tr>\n<tr>\n<td>\n\"GeneratorSyste...\n</td>\n<td>\n\"https://github...\n</td>\n</tr>\n<tr>\n<td>\n\"GeneratorSyste...\n</td>\n<td>\n\"https://github...\n</td>\n</tr>\n<tr>\n<td>\n\"GeneratorSyste...\n</td>\n<td>\n\"https://github...\n</td>\n</tr>\n<tr>\n<td>\n\"GeneratorSyste...\n</td>\n<td>\n\"https://github...\n</td>\n</tr>\n<tr>\n<td>\n\"GeneratorSyste...\n</td>\n<td>\n\"https://github...\n</td>\n</tr>\n<tr>\n<td>\n\"GeneratorSyste...\n</td>\n<td>\n\"https://github...\n</td>\n</tr>\n<tr>\n<td>\n\"GeneratorSyste...\n</td>\n<td>\n\"https://github...\n</td>\n</tr>\n<tr>\n<td>\n\"GeneratorSyste...\n</td>\n<td>\n\"https://github...\n</td>\n</tr>\n<tr>\n<td>\n\"GeneratorSyste...\n</td>\n<td>\n\"https://github...\n</td>\n</tr>\n<tr>\n<td>\n\"GeneratorSyste...\n</td>\n<td>\n\"https://github...\n</td>\n</tr>\n</tbody>\n</table>\n</div>"
     },
     "execution_count": 11,
     "metadata": {},
     "output_type": "execute_result"
    }
   ],
   "source": [
    "generator_system_keys = [\"GeneratorSystem\" + str(i) for i in range(1,n+1)]\n",
    "generator_systems = pl.DataFrame(\n",
    "    {\n",
    "    \"Key\":generator_system_keys,\n",
    "    \"Label\": [\"Generator system\"]*n,\n",
    "    \"RDSType\": [\"RA\"]*n\n",
    "    })\n",
    "generator_systems_mint_iris = {\n",
    "    \"SystemIRI\":MintingOptions(\n",
    "        prefix=wpex + \"GeneratorSystem\", numbering_suffix_start=1)}\n",
    "mapping.expand(\"tpl:RDSSystem\", generator_systems, \n",
    "               mint_iris=generator_systems_mint_iris)"
   ]
  },
  {
   "cell_type": "code",
   "execution_count": 12,
   "id": "bf5dabda",
   "metadata": {
    "pycharm": {
     "name": "#%%\n"
    }
   },
   "outputs": [
    {
     "data": {
      "text/plain": "shape: (1000, 2)\n┌─────────────────────────────────────┬─────────────────────────────────────┐\n│ Key                                 ┆ TargetAspectNodeIRI                 │\n│ ---                                 ┆ ---                                 │\n│ str                                 ┆ str                                 │\n╞═════════════════════════════════════╪═════════════════════════════════════╡\n│ WindTurbine1_GeneratorSystem1       ┆ https://github.com/magbak/otit_s... │\n├╌╌╌╌╌╌╌╌╌╌╌╌╌╌╌╌╌╌╌╌╌╌╌╌╌╌╌╌╌╌╌╌╌╌╌╌╌┼╌╌╌╌╌╌╌╌╌╌╌╌╌╌╌╌╌╌╌╌╌╌╌╌╌╌╌╌╌╌╌╌╌╌╌╌╌┤\n│ WindTurbine2_GeneratorSystem2       ┆ https://github.com/magbak/otit_s... │\n├╌╌╌╌╌╌╌╌╌╌╌╌╌╌╌╌╌╌╌╌╌╌╌╌╌╌╌╌╌╌╌╌╌╌╌╌╌┼╌╌╌╌╌╌╌╌╌╌╌╌╌╌╌╌╌╌╌╌╌╌╌╌╌╌╌╌╌╌╌╌╌╌╌╌╌┤\n│ WindTurbine3_GeneratorSystem3       ┆ https://github.com/magbak/otit_s... │\n├╌╌╌╌╌╌╌╌╌╌╌╌╌╌╌╌╌╌╌╌╌╌╌╌╌╌╌╌╌╌╌╌╌╌╌╌╌┼╌╌╌╌╌╌╌╌╌╌╌╌╌╌╌╌╌╌╌╌╌╌╌╌╌╌╌╌╌╌╌╌╌╌╌╌╌┤\n│ WindTurbine4_GeneratorSystem4       ┆ https://github.com/magbak/otit_s... │\n├╌╌╌╌╌╌╌╌╌╌╌╌╌╌╌╌╌╌╌╌╌╌╌╌╌╌╌╌╌╌╌╌╌╌╌╌╌┼╌╌╌╌╌╌╌╌╌╌╌╌╌╌╌╌╌╌╌╌╌╌╌╌╌╌╌╌╌╌╌╌╌╌╌╌╌┤\n│ ...                                 ┆ ...                                 │\n├╌╌╌╌╌╌╌╌╌╌╌╌╌╌╌╌╌╌╌╌╌╌╌╌╌╌╌╌╌╌╌╌╌╌╌╌╌┼╌╌╌╌╌╌╌╌╌╌╌╌╌╌╌╌╌╌╌╌╌╌╌╌╌╌╌╌╌╌╌╌╌╌╌╌╌┤\n│ WindTurbine997_GeneratorSystem99... ┆ https://github.com/magbak/otit_s... │\n├╌╌╌╌╌╌╌╌╌╌╌╌╌╌╌╌╌╌╌╌╌╌╌╌╌╌╌╌╌╌╌╌╌╌╌╌╌┼╌╌╌╌╌╌╌╌╌╌╌╌╌╌╌╌╌╌╌╌╌╌╌╌╌╌╌╌╌╌╌╌╌╌╌╌╌┤\n│ WindTurbine998_GeneratorSystem99... ┆ https://github.com/magbak/otit_s... │\n├╌╌╌╌╌╌╌╌╌╌╌╌╌╌╌╌╌╌╌╌╌╌╌╌╌╌╌╌╌╌╌╌╌╌╌╌╌┼╌╌╌╌╌╌╌╌╌╌╌╌╌╌╌╌╌╌╌╌╌╌╌╌╌╌╌╌╌╌╌╌╌╌╌╌╌┤\n│ WindTurbine999_GeneratorSystem99... ┆ https://github.com/magbak/otit_s... │\n├╌╌╌╌╌╌╌╌╌╌╌╌╌╌╌╌╌╌╌╌╌╌╌╌╌╌╌╌╌╌╌╌╌╌╌╌╌┼╌╌╌╌╌╌╌╌╌╌╌╌╌╌╌╌╌╌╌╌╌╌╌╌╌╌╌╌╌╌╌╌╌╌╌╌╌┤\n│ WindTurbine1000_GeneratorSystem1... ┆ https://github.com/magbak/otit_s... │\n└─────────────────────────────────────┴─────────────────────────────────────┘",
      "text/html": "<div>\n<style scoped>\n    .dataframe tbody tr th:only-of-type {\n        vertical-align: middle;\n    }\n\n    .dataframe tbody tr th {\n        vertical-align: top;\n    }\n\n    .dataframe thead th {\n        text-align: right;\n    }\n\n    .dataframe td {\n        white-space: pre;\n    }\n\n    .dataframe td {\n        padding-top: 0;\n    }\n\n    .dataframe td {\n        padding-bottom: 0;\n    }\n\n    .dataframe td {\n        line-height: 95%;\n    }\n</style>\n<table border=\"1\" class=\"dataframe\" >\n<small>shape: (1000, 2)</small>\n<thead>\n<tr>\n<th>\nKey\n</th>\n<th>\nTargetAspectNodeIRI\n</th>\n</tr>\n<tr>\n<td>\nstr\n</td>\n<td>\nstr\n</td>\n</tr>\n</thead>\n<tbody>\n<tr>\n<td>\n\"WindTurbine1_G...\n</td>\n<td>\n\"https://github...\n</td>\n</tr>\n<tr>\n<td>\n\"WindTurbine2_G...\n</td>\n<td>\n\"https://github...\n</td>\n</tr>\n<tr>\n<td>\n\"WindTurbine3_G...\n</td>\n<td>\n\"https://github...\n</td>\n</tr>\n<tr>\n<td>\n\"WindTurbine4_G...\n</td>\n<td>\n\"https://github...\n</td>\n</tr>\n<tr>\n<td>\n\"WindTurbine5_G...\n</td>\n<td>\n\"https://github...\n</td>\n</tr>\n<tr>\n<td>\n\"WindTurbine6_G...\n</td>\n<td>\n\"https://github...\n</td>\n</tr>\n<tr>\n<td>\n\"WindTurbine7_G...\n</td>\n<td>\n\"https://github...\n</td>\n</tr>\n<tr>\n<td>\n\"WindTurbine8_G...\n</td>\n<td>\n\"https://github...\n</td>\n</tr>\n<tr>\n<td>\n\"WindTurbine9_G...\n</td>\n<td>\n\"https://github...\n</td>\n</tr>\n<tr>\n<td>\n\"WindTurbine10_...\n</td>\n<td>\n\"https://github...\n</td>\n</tr>\n<tr>\n<td>\n\"WindTurbine11_...\n</td>\n<td>\n\"https://github...\n</td>\n</tr>\n<tr>\n<td>\n\"WindTurbine12_...\n</td>\n<td>\n\"https://github...\n</td>\n</tr>\n<tr>\n<td>\n...\n</td>\n<td>\n...\n</td>\n</tr>\n<tr>\n<td>\n\"WindTurbine989...\n</td>\n<td>\n\"https://github...\n</td>\n</tr>\n<tr>\n<td>\n\"WindTurbine990...\n</td>\n<td>\n\"https://github...\n</td>\n</tr>\n<tr>\n<td>\n\"WindTurbine991...\n</td>\n<td>\n\"https://github...\n</td>\n</tr>\n<tr>\n<td>\n\"WindTurbine992...\n</td>\n<td>\n\"https://github...\n</td>\n</tr>\n<tr>\n<td>\n\"WindTurbine993...\n</td>\n<td>\n\"https://github...\n</td>\n</tr>\n<tr>\n<td>\n\"WindTurbine994...\n</td>\n<td>\n\"https://github...\n</td>\n</tr>\n<tr>\n<td>\n\"WindTurbine995...\n</td>\n<td>\n\"https://github...\n</td>\n</tr>\n<tr>\n<td>\n\"WindTurbine996...\n</td>\n<td>\n\"https://github...\n</td>\n</tr>\n<tr>\n<td>\n\"WindTurbine997...\n</td>\n<td>\n\"https://github...\n</td>\n</tr>\n<tr>\n<td>\n\"WindTurbine998...\n</td>\n<td>\n\"https://github...\n</td>\n</tr>\n<tr>\n<td>\n\"WindTurbine999...\n</td>\n<td>\n\"https://github...\n</td>\n</tr>\n<tr>\n<td>\n\"WindTurbine100...\n</td>\n<td>\n\"https://github...\n</td>\n</tr>\n</tbody>\n</table>\n</div>"
     },
     "execution_count": 12,
     "metadata": {},
     "output_type": "execute_result"
    }
   ],
   "source": [
    "wind_turbine_has_generator_system = pl.DataFrame ({\n",
    "    \"SourceIRIKey\": wind_turbine_keys,\n",
    "    \"TargetIRIKey\": generator_system_keys,\n",
    "    \"Label\": [\"RA1\" for i in range(1,n+1)],\n",
    "})\n",
    "wind_turbine_has_generator_system[\"Key\"] = wind_turbine_has_generator_system[\"SourceIRIKey\"] + \"_\" + wind_turbine_has_generator_system[\"TargetIRIKey\"]\n",
    "wind_turbine_has_generator_system_mint_iris = {\n",
    "    \"TargetAspectNodeIRI\": MintingOptions(\n",
    "        prefix= wpex + \"GeneratorFunctionalAspect\", \n",
    "        numbering_suffix_start=1)}\n",
    "rdssystem_to_rdssystem_resolve_iris = {\n",
    "    \"SourceIRI\":ResolveIRI(key_column=\"SourceIRIKey\",\n",
    "                           template=\"tpl:RDSSystem\",\n",
    "                           argument=\"SystemIRI\"\n",
    "                          ),\n",
    "    \"TargetIRI\":ResolveIRI(key_column=\"TargetIRIKey\",\n",
    "                           template=\"tpl:RDSSystem\",\n",
    "                           argument=\"SystemIRI\"\n",
    "                          ),\n",
    "}\n",
    "mapping.expand(\"tpl:FunctionalAspect\", wind_turbine_has_generator_system, \n",
    "               mint_iris=wind_turbine_has_generator_system_mint_iris, \n",
    "               resolve_iris=rdssystem_to_rdssystem_resolve_iris)"
   ]
  },
  {
   "cell_type": "markdown",
   "id": "9f2f7d07",
   "metadata": {
    "pycharm": {
     "name": "#%% md\n"
    }
   },
   "source": [
    "# Generator"
   ]
  },
  {
   "cell_type": "code",
   "execution_count": 13,
   "id": "7e91c3a2",
   "metadata": {
    "pycharm": {
     "name": "#%%\n"
    }
   },
   "outputs": [
    {
     "data": {
      "text/plain": "shape: (1000, 2)\n┌───────────────┬─────────────────────────────────────┐\n│ Key           ┆ SystemIRI                           │\n│ ---           ┆ ---                                 │\n│ str           ┆ str                                 │\n╞═══════════════╪═════════════════════════════════════╡\n│ Generator1    ┆ https://github.com/magbak/otit_s... │\n├╌╌╌╌╌╌╌╌╌╌╌╌╌╌╌┼╌╌╌╌╌╌╌╌╌╌╌╌╌╌╌╌╌╌╌╌╌╌╌╌╌╌╌╌╌╌╌╌╌╌╌╌╌┤\n│ Generator2    ┆ https://github.com/magbak/otit_s... │\n├╌╌╌╌╌╌╌╌╌╌╌╌╌╌╌┼╌╌╌╌╌╌╌╌╌╌╌╌╌╌╌╌╌╌╌╌╌╌╌╌╌╌╌╌╌╌╌╌╌╌╌╌╌┤\n│ Generator3    ┆ https://github.com/magbak/otit_s... │\n├╌╌╌╌╌╌╌╌╌╌╌╌╌╌╌┼╌╌╌╌╌╌╌╌╌╌╌╌╌╌╌╌╌╌╌╌╌╌╌╌╌╌╌╌╌╌╌╌╌╌╌╌╌┤\n│ Generator4    ┆ https://github.com/magbak/otit_s... │\n├╌╌╌╌╌╌╌╌╌╌╌╌╌╌╌┼╌╌╌╌╌╌╌╌╌╌╌╌╌╌╌╌╌╌╌╌╌╌╌╌╌╌╌╌╌╌╌╌╌╌╌╌╌┤\n│ ...           ┆ ...                                 │\n├╌╌╌╌╌╌╌╌╌╌╌╌╌╌╌┼╌╌╌╌╌╌╌╌╌╌╌╌╌╌╌╌╌╌╌╌╌╌╌╌╌╌╌╌╌╌╌╌╌╌╌╌╌┤\n│ Generator997  ┆ https://github.com/magbak/otit_s... │\n├╌╌╌╌╌╌╌╌╌╌╌╌╌╌╌┼╌╌╌╌╌╌╌╌╌╌╌╌╌╌╌╌╌╌╌╌╌╌╌╌╌╌╌╌╌╌╌╌╌╌╌╌╌┤\n│ Generator998  ┆ https://github.com/magbak/otit_s... │\n├╌╌╌╌╌╌╌╌╌╌╌╌╌╌╌┼╌╌╌╌╌╌╌╌╌╌╌╌╌╌╌╌╌╌╌╌╌╌╌╌╌╌╌╌╌╌╌╌╌╌╌╌╌┤\n│ Generator999  ┆ https://github.com/magbak/otit_s... │\n├╌╌╌╌╌╌╌╌╌╌╌╌╌╌╌┼╌╌╌╌╌╌╌╌╌╌╌╌╌╌╌╌╌╌╌╌╌╌╌╌╌╌╌╌╌╌╌╌╌╌╌╌╌┤\n│ Generator1000 ┆ https://github.com/magbak/otit_s... │\n└───────────────┴─────────────────────────────────────┘",
      "text/html": "<div>\n<style scoped>\n    .dataframe tbody tr th:only-of-type {\n        vertical-align: middle;\n    }\n\n    .dataframe tbody tr th {\n        vertical-align: top;\n    }\n\n    .dataframe thead th {\n        text-align: right;\n    }\n\n    .dataframe td {\n        white-space: pre;\n    }\n\n    .dataframe td {\n        padding-top: 0;\n    }\n\n    .dataframe td {\n        padding-bottom: 0;\n    }\n\n    .dataframe td {\n        line-height: 95%;\n    }\n</style>\n<table border=\"1\" class=\"dataframe\" >\n<small>shape: (1000, 2)</small>\n<thead>\n<tr>\n<th>\nKey\n</th>\n<th>\nSystemIRI\n</th>\n</tr>\n<tr>\n<td>\nstr\n</td>\n<td>\nstr\n</td>\n</tr>\n</thead>\n<tbody>\n<tr>\n<td>\n\"Generator1\"\n</td>\n<td>\n\"https://github...\n</td>\n</tr>\n<tr>\n<td>\n\"Generator2\"\n</td>\n<td>\n\"https://github...\n</td>\n</tr>\n<tr>\n<td>\n\"Generator3\"\n</td>\n<td>\n\"https://github...\n</td>\n</tr>\n<tr>\n<td>\n\"Generator4\"\n</td>\n<td>\n\"https://github...\n</td>\n</tr>\n<tr>\n<td>\n\"Generator5\"\n</td>\n<td>\n\"https://github...\n</td>\n</tr>\n<tr>\n<td>\n\"Generator6\"\n</td>\n<td>\n\"https://github...\n</td>\n</tr>\n<tr>\n<td>\n\"Generator7\"\n</td>\n<td>\n\"https://github...\n</td>\n</tr>\n<tr>\n<td>\n\"Generator8\"\n</td>\n<td>\n\"https://github...\n</td>\n</tr>\n<tr>\n<td>\n\"Generator9\"\n</td>\n<td>\n\"https://github...\n</td>\n</tr>\n<tr>\n<td>\n\"Generator10\"\n</td>\n<td>\n\"https://github...\n</td>\n</tr>\n<tr>\n<td>\n\"Generator11\"\n</td>\n<td>\n\"https://github...\n</td>\n</tr>\n<tr>\n<td>\n\"Generator12\"\n</td>\n<td>\n\"https://github...\n</td>\n</tr>\n<tr>\n<td>\n...\n</td>\n<td>\n...\n</td>\n</tr>\n<tr>\n<td>\n\"Generator989\"\n</td>\n<td>\n\"https://github...\n</td>\n</tr>\n<tr>\n<td>\n\"Generator990\"\n</td>\n<td>\n\"https://github...\n</td>\n</tr>\n<tr>\n<td>\n\"Generator991\"\n</td>\n<td>\n\"https://github...\n</td>\n</tr>\n<tr>\n<td>\n\"Generator992\"\n</td>\n<td>\n\"https://github...\n</td>\n</tr>\n<tr>\n<td>\n\"Generator993\"\n</td>\n<td>\n\"https://github...\n</td>\n</tr>\n<tr>\n<td>\n\"Generator994\"\n</td>\n<td>\n\"https://github...\n</td>\n</tr>\n<tr>\n<td>\n\"Generator995\"\n</td>\n<td>\n\"https://github...\n</td>\n</tr>\n<tr>\n<td>\n\"Generator996\"\n</td>\n<td>\n\"https://github...\n</td>\n</tr>\n<tr>\n<td>\n\"Generator997\"\n</td>\n<td>\n\"https://github...\n</td>\n</tr>\n<tr>\n<td>\n\"Generator998\"\n</td>\n<td>\n\"https://github...\n</td>\n</tr>\n<tr>\n<td>\n\"Generator999\"\n</td>\n<td>\n\"https://github...\n</td>\n</tr>\n<tr>\n<td>\n\"Generator1000\"\n</td>\n<td>\n\"https://github...\n</td>\n</tr>\n</tbody>\n</table>\n</div>"
     },
     "execution_count": 13,
     "metadata": {},
     "output_type": "execute_result"
    }
   ],
   "source": [
    "generator_keys = [\"Generator\" + str(i) for i in range(1,n+1)]\n",
    "generators = pl.DataFrame(\n",
    "    {\n",
    "    \"Key\": generator_keys,\n",
    "    \"RDSType\": [\"GAA\"]*n,\n",
    "    \"Label\" : [\"Generator\"]*n\n",
    "    })\n",
    "generators_mint_iris = {\n",
    "    \"SystemIRI\":MintingOptions(\n",
    "        prefix=wpex + \"Generator\", numbering_suffix_start=1)}\n",
    "mapping.expand(\"tpl:RDSSystem\", generators, \n",
    "               mint_iris=generators_mint_iris)"
   ]
  },
  {
   "cell_type": "code",
   "execution_count": 14,
   "id": "6756d053",
   "metadata": {
    "pycharm": {
     "name": "#%%\n"
    }
   },
   "outputs": [
    {
     "data": {
      "text/plain": "shape: (1000, 2)\n┌──────────────────────────┬─────────────────────────────────────┐\n│ Key                      ┆ TimeseriesNodeIRI                   │\n│ ---                      ┆ ---                                 │\n│ str                      ┆ str                                 │\n╞══════════════════════════╪═════════════════════════════════════╡\n│ Generator1_production    ┆ https://github.com/magbak/otit_s... │\n├╌╌╌╌╌╌╌╌╌╌╌╌╌╌╌╌╌╌╌╌╌╌╌╌╌╌┼╌╌╌╌╌╌╌╌╌╌╌╌╌╌╌╌╌╌╌╌╌╌╌╌╌╌╌╌╌╌╌╌╌╌╌╌╌┤\n│ Generator2_production    ┆ https://github.com/magbak/otit_s... │\n├╌╌╌╌╌╌╌╌╌╌╌╌╌╌╌╌╌╌╌╌╌╌╌╌╌╌┼╌╌╌╌╌╌╌╌╌╌╌╌╌╌╌╌╌╌╌╌╌╌╌╌╌╌╌╌╌╌╌╌╌╌╌╌╌┤\n│ Generator3_production    ┆ https://github.com/magbak/otit_s... │\n├╌╌╌╌╌╌╌╌╌╌╌╌╌╌╌╌╌╌╌╌╌╌╌╌╌╌┼╌╌╌╌╌╌╌╌╌╌╌╌╌╌╌╌╌╌╌╌╌╌╌╌╌╌╌╌╌╌╌╌╌╌╌╌╌┤\n│ Generator4_production    ┆ https://github.com/magbak/otit_s... │\n├╌╌╌╌╌╌╌╌╌╌╌╌╌╌╌╌╌╌╌╌╌╌╌╌╌╌┼╌╌╌╌╌╌╌╌╌╌╌╌╌╌╌╌╌╌╌╌╌╌╌╌╌╌╌╌╌╌╌╌╌╌╌╌╌┤\n│ ...                      ┆ ...                                 │\n├╌╌╌╌╌╌╌╌╌╌╌╌╌╌╌╌╌╌╌╌╌╌╌╌╌╌┼╌╌╌╌╌╌╌╌╌╌╌╌╌╌╌╌╌╌╌╌╌╌╌╌╌╌╌╌╌╌╌╌╌╌╌╌╌┤\n│ Generator997_production  ┆ https://github.com/magbak/otit_s... │\n├╌╌╌╌╌╌╌╌╌╌╌╌╌╌╌╌╌╌╌╌╌╌╌╌╌╌┼╌╌╌╌╌╌╌╌╌╌╌╌╌╌╌╌╌╌╌╌╌╌╌╌╌╌╌╌╌╌╌╌╌╌╌╌╌┤\n│ Generator998_production  ┆ https://github.com/magbak/otit_s... │\n├╌╌╌╌╌╌╌╌╌╌╌╌╌╌╌╌╌╌╌╌╌╌╌╌╌╌┼╌╌╌╌╌╌╌╌╌╌╌╌╌╌╌╌╌╌╌╌╌╌╌╌╌╌╌╌╌╌╌╌╌╌╌╌╌┤\n│ Generator999_production  ┆ https://github.com/magbak/otit_s... │\n├╌╌╌╌╌╌╌╌╌╌╌╌╌╌╌╌╌╌╌╌╌╌╌╌╌╌┼╌╌╌╌╌╌╌╌╌╌╌╌╌╌╌╌╌╌╌╌╌╌╌╌╌╌╌╌╌╌╌╌╌╌╌╌╌┤\n│ Generator1000_production ┆ https://github.com/magbak/otit_s... │\n└──────────────────────────┴─────────────────────────────────────┘",
      "text/html": "<div>\n<style scoped>\n    .dataframe tbody tr th:only-of-type {\n        vertical-align: middle;\n    }\n\n    .dataframe tbody tr th {\n        vertical-align: top;\n    }\n\n    .dataframe thead th {\n        text-align: right;\n    }\n\n    .dataframe td {\n        white-space: pre;\n    }\n\n    .dataframe td {\n        padding-top: 0;\n    }\n\n    .dataframe td {\n        padding-bottom: 0;\n    }\n\n    .dataframe td {\n        line-height: 95%;\n    }\n</style>\n<table border=\"1\" class=\"dataframe\" >\n<small>shape: (1000, 2)</small>\n<thead>\n<tr>\n<th>\nKey\n</th>\n<th>\nTimeseriesNodeIRI\n</th>\n</tr>\n<tr>\n<td>\nstr\n</td>\n<td>\nstr\n</td>\n</tr>\n</thead>\n<tbody>\n<tr>\n<td>\n\"Generator1_pro...\n</td>\n<td>\n\"https://github...\n</td>\n</tr>\n<tr>\n<td>\n\"Generator2_pro...\n</td>\n<td>\n\"https://github...\n</td>\n</tr>\n<tr>\n<td>\n\"Generator3_pro...\n</td>\n<td>\n\"https://github...\n</td>\n</tr>\n<tr>\n<td>\n\"Generator4_pro...\n</td>\n<td>\n\"https://github...\n</td>\n</tr>\n<tr>\n<td>\n\"Generator5_pro...\n</td>\n<td>\n\"https://github...\n</td>\n</tr>\n<tr>\n<td>\n\"Generator6_pro...\n</td>\n<td>\n\"https://github...\n</td>\n</tr>\n<tr>\n<td>\n\"Generator7_pro...\n</td>\n<td>\n\"https://github...\n</td>\n</tr>\n<tr>\n<td>\n\"Generator8_pro...\n</td>\n<td>\n\"https://github...\n</td>\n</tr>\n<tr>\n<td>\n\"Generator9_pro...\n</td>\n<td>\n\"https://github...\n</td>\n</tr>\n<tr>\n<td>\n\"Generator10_pr...\n</td>\n<td>\n\"https://github...\n</td>\n</tr>\n<tr>\n<td>\n\"Generator11_pr...\n</td>\n<td>\n\"https://github...\n</td>\n</tr>\n<tr>\n<td>\n\"Generator12_pr...\n</td>\n<td>\n\"https://github...\n</td>\n</tr>\n<tr>\n<td>\n...\n</td>\n<td>\n...\n</td>\n</tr>\n<tr>\n<td>\n\"Generator989_p...\n</td>\n<td>\n\"https://github...\n</td>\n</tr>\n<tr>\n<td>\n\"Generator990_p...\n</td>\n<td>\n\"https://github...\n</td>\n</tr>\n<tr>\n<td>\n\"Generator991_p...\n</td>\n<td>\n\"https://github...\n</td>\n</tr>\n<tr>\n<td>\n\"Generator992_p...\n</td>\n<td>\n\"https://github...\n</td>\n</tr>\n<tr>\n<td>\n\"Generator993_p...\n</td>\n<td>\n\"https://github...\n</td>\n</tr>\n<tr>\n<td>\n\"Generator994_p...\n</td>\n<td>\n\"https://github...\n</td>\n</tr>\n<tr>\n<td>\n\"Generator995_p...\n</td>\n<td>\n\"https://github...\n</td>\n</tr>\n<tr>\n<td>\n\"Generator996_p...\n</td>\n<td>\n\"https://github...\n</td>\n</tr>\n<tr>\n<td>\n\"Generator997_p...\n</td>\n<td>\n\"https://github...\n</td>\n</tr>\n<tr>\n<td>\n\"Generator998_p...\n</td>\n<td>\n\"https://github...\n</td>\n</tr>\n<tr>\n<td>\n\"Generator999_p...\n</td>\n<td>\n\"https://github...\n</td>\n</tr>\n<tr>\n<td>\n\"Generator1000_...\n</td>\n<td>\n\"https://github...\n</td>\n</tr>\n</tbody>\n</table>\n</div>"
     },
     "execution_count": 14,
     "metadata": {},
     "output_type": "execute_result"
    }
   ],
   "source": [
    "energy_production_external_ids = [\"ep\" + str(i) for i in range(1,n+1)]\n",
    "energy_production = pl.DataFrame ({\n",
    "    \"Key\": [k + \"_production\" for k in generator_keys],\n",
    "    \"Label\": [\"Production\"]*n,\n",
    "    \"ParentIRIKey\" :generator_keys,\n",
    "    \"ExternalId\": energy_production_external_ids,\n",
    "    \"Datatype\": [\"http://www.w3.org/2001/XMLSchema#double\"]*n\n",
    "})\n",
    "energy_production_mint_iris = {\n",
    "    \"TimeseriesNodeIRI\": MintingOptions(prefix=wpex + \"EnergyProduction\",\n",
    "                                        numbering_suffix_start=1)\n",
    "}\n",
    "energy_production_resolve_iris = {\n",
    "    \"ParentIRI\": ResolveIRI(key_column=\"ParentIRIKey\", \n",
    "                           template=\"tpl:RDSSystem\",\n",
    "                           argument=\"SystemIRI\")\n",
    "}\n",
    "mapping.expand(\"tpl:Timeseries\", energy_production, \n",
    "               mint_iris=energy_production_mint_iris,\n",
    "              resolve_iris=energy_production_resolve_iris)"
   ]
  },
  {
   "cell_type": "code",
   "execution_count": 15,
   "id": "ea02ae01",
   "metadata": {
    "pycharm": {
     "name": "#%%\n"
    }
   },
   "outputs": [
    {
     "data": {
      "text/plain": "shape: (1000, 2)\n┌─────────────────────────────────────┬─────────────────────────────────────┐\n│ Key                                 ┆ TargetAspectNodeIRI                 │\n│ ---                                 ┆ ---                                 │\n│ str                                 ┆ str                                 │\n╞═════════════════════════════════════╪═════════════════════════════════════╡\n│ GeneratorSystem1_Generator1         ┆ https://github.com/magbak/otit_s... │\n├╌╌╌╌╌╌╌╌╌╌╌╌╌╌╌╌╌╌╌╌╌╌╌╌╌╌╌╌╌╌╌╌╌╌╌╌╌┼╌╌╌╌╌╌╌╌╌╌╌╌╌╌╌╌╌╌╌╌╌╌╌╌╌╌╌╌╌╌╌╌╌╌╌╌╌┤\n│ GeneratorSystem2_Generator2         ┆ https://github.com/magbak/otit_s... │\n├╌╌╌╌╌╌╌╌╌╌╌╌╌╌╌╌╌╌╌╌╌╌╌╌╌╌╌╌╌╌╌╌╌╌╌╌╌┼╌╌╌╌╌╌╌╌╌╌╌╌╌╌╌╌╌╌╌╌╌╌╌╌╌╌╌╌╌╌╌╌╌╌╌╌╌┤\n│ GeneratorSystem3_Generator3         ┆ https://github.com/magbak/otit_s... │\n├╌╌╌╌╌╌╌╌╌╌╌╌╌╌╌╌╌╌╌╌╌╌╌╌╌╌╌╌╌╌╌╌╌╌╌╌╌┼╌╌╌╌╌╌╌╌╌╌╌╌╌╌╌╌╌╌╌╌╌╌╌╌╌╌╌╌╌╌╌╌╌╌╌╌╌┤\n│ GeneratorSystem4_Generator4         ┆ https://github.com/magbak/otit_s... │\n├╌╌╌╌╌╌╌╌╌╌╌╌╌╌╌╌╌╌╌╌╌╌╌╌╌╌╌╌╌╌╌╌╌╌╌╌╌┼╌╌╌╌╌╌╌╌╌╌╌╌╌╌╌╌╌╌╌╌╌╌╌╌╌╌╌╌╌╌╌╌╌╌╌╌╌┤\n│ ...                                 ┆ ...                                 │\n├╌╌╌╌╌╌╌╌╌╌╌╌╌╌╌╌╌╌╌╌╌╌╌╌╌╌╌╌╌╌╌╌╌╌╌╌╌┼╌╌╌╌╌╌╌╌╌╌╌╌╌╌╌╌╌╌╌╌╌╌╌╌╌╌╌╌╌╌╌╌╌╌╌╌╌┤\n│ GeneratorSystem997_Generator997     ┆ https://github.com/magbak/otit_s... │\n├╌╌╌╌╌╌╌╌╌╌╌╌╌╌╌╌╌╌╌╌╌╌╌╌╌╌╌╌╌╌╌╌╌╌╌╌╌┼╌╌╌╌╌╌╌╌╌╌╌╌╌╌╌╌╌╌╌╌╌╌╌╌╌╌╌╌╌╌╌╌╌╌╌╌╌┤\n│ GeneratorSystem998_Generator998     ┆ https://github.com/magbak/otit_s... │\n├╌╌╌╌╌╌╌╌╌╌╌╌╌╌╌╌╌╌╌╌╌╌╌╌╌╌╌╌╌╌╌╌╌╌╌╌╌┼╌╌╌╌╌╌╌╌╌╌╌╌╌╌╌╌╌╌╌╌╌╌╌╌╌╌╌╌╌╌╌╌╌╌╌╌╌┤\n│ GeneratorSystem999_Generator999     ┆ https://github.com/magbak/otit_s... │\n├╌╌╌╌╌╌╌╌╌╌╌╌╌╌╌╌╌╌╌╌╌╌╌╌╌╌╌╌╌╌╌╌╌╌╌╌╌┼╌╌╌╌╌╌╌╌╌╌╌╌╌╌╌╌╌╌╌╌╌╌╌╌╌╌╌╌╌╌╌╌╌╌╌╌╌┤\n│ GeneratorSystem1000_Generator100... ┆ https://github.com/magbak/otit_s... │\n└─────────────────────────────────────┴─────────────────────────────────────┘",
      "text/html": "<div>\n<style scoped>\n    .dataframe tbody tr th:only-of-type {\n        vertical-align: middle;\n    }\n\n    .dataframe tbody tr th {\n        vertical-align: top;\n    }\n\n    .dataframe thead th {\n        text-align: right;\n    }\n\n    .dataframe td {\n        white-space: pre;\n    }\n\n    .dataframe td {\n        padding-top: 0;\n    }\n\n    .dataframe td {\n        padding-bottom: 0;\n    }\n\n    .dataframe td {\n        line-height: 95%;\n    }\n</style>\n<table border=\"1\" class=\"dataframe\" >\n<small>shape: (1000, 2)</small>\n<thead>\n<tr>\n<th>\nKey\n</th>\n<th>\nTargetAspectNodeIRI\n</th>\n</tr>\n<tr>\n<td>\nstr\n</td>\n<td>\nstr\n</td>\n</tr>\n</thead>\n<tbody>\n<tr>\n<td>\n\"GeneratorSyste...\n</td>\n<td>\n\"https://github...\n</td>\n</tr>\n<tr>\n<td>\n\"GeneratorSyste...\n</td>\n<td>\n\"https://github...\n</td>\n</tr>\n<tr>\n<td>\n\"GeneratorSyste...\n</td>\n<td>\n\"https://github...\n</td>\n</tr>\n<tr>\n<td>\n\"GeneratorSyste...\n</td>\n<td>\n\"https://github...\n</td>\n</tr>\n<tr>\n<td>\n\"GeneratorSyste...\n</td>\n<td>\n\"https://github...\n</td>\n</tr>\n<tr>\n<td>\n\"GeneratorSyste...\n</td>\n<td>\n\"https://github...\n</td>\n</tr>\n<tr>\n<td>\n\"GeneratorSyste...\n</td>\n<td>\n\"https://github...\n</td>\n</tr>\n<tr>\n<td>\n\"GeneratorSyste...\n</td>\n<td>\n\"https://github...\n</td>\n</tr>\n<tr>\n<td>\n\"GeneratorSyste...\n</td>\n<td>\n\"https://github...\n</td>\n</tr>\n<tr>\n<td>\n\"GeneratorSyste...\n</td>\n<td>\n\"https://github...\n</td>\n</tr>\n<tr>\n<td>\n\"GeneratorSyste...\n</td>\n<td>\n\"https://github...\n</td>\n</tr>\n<tr>\n<td>\n\"GeneratorSyste...\n</td>\n<td>\n\"https://github...\n</td>\n</tr>\n<tr>\n<td>\n...\n</td>\n<td>\n...\n</td>\n</tr>\n<tr>\n<td>\n\"GeneratorSyste...\n</td>\n<td>\n\"https://github...\n</td>\n</tr>\n<tr>\n<td>\n\"GeneratorSyste...\n</td>\n<td>\n\"https://github...\n</td>\n</tr>\n<tr>\n<td>\n\"GeneratorSyste...\n</td>\n<td>\n\"https://github...\n</td>\n</tr>\n<tr>\n<td>\n\"GeneratorSyste...\n</td>\n<td>\n\"https://github...\n</td>\n</tr>\n<tr>\n<td>\n\"GeneratorSyste...\n</td>\n<td>\n\"https://github...\n</td>\n</tr>\n<tr>\n<td>\n\"GeneratorSyste...\n</td>\n<td>\n\"https://github...\n</td>\n</tr>\n<tr>\n<td>\n\"GeneratorSyste...\n</td>\n<td>\n\"https://github...\n</td>\n</tr>\n<tr>\n<td>\n\"GeneratorSyste...\n</td>\n<td>\n\"https://github...\n</td>\n</tr>\n<tr>\n<td>\n\"GeneratorSyste...\n</td>\n<td>\n\"https://github...\n</td>\n</tr>\n<tr>\n<td>\n\"GeneratorSyste...\n</td>\n<td>\n\"https://github...\n</td>\n</tr>\n<tr>\n<td>\n\"GeneratorSyste...\n</td>\n<td>\n\"https://github...\n</td>\n</tr>\n<tr>\n<td>\n\"GeneratorSyste...\n</td>\n<td>\n\"https://github...\n</td>\n</tr>\n</tbody>\n</table>\n</div>"
     },
     "execution_count": 15,
     "metadata": {},
     "output_type": "execute_result"
    }
   ],
   "source": [
    "generator_system_has_generator = pl.DataFrame ({\n",
    "    \"SourceIRIKey\": generator_system_keys,\n",
    "    \"TargetIRIKey\": generator_keys,\n",
    "    \"Label\": [\"GAA1\" for i in range(1,n+1)],\n",
    "})\n",
    "generator_system_has_generator[\"Key\"] = generator_system_has_generator[\"SourceIRIKey\"] + \"_\" + generator_system_has_generator[\"TargetIRIKey\"]\n",
    "generator_system_has_generator_mint_iris = {\n",
    "    \"TargetAspectNodeIRI\": MintingOptions(\n",
    "        prefix= wpex + \"GeneratorFunctionalAspect\", \n",
    "        numbering_suffix_start=1)}\n",
    "mapping.expand(\"tpl:FunctionalAspect\", generator_system_has_generator, \n",
    "               mint_iris=generator_system_has_generator_mint_iris, \n",
    "               resolve_iris=rdssystem_to_rdssystem_resolve_iris)"
   ]
  },
  {
   "cell_type": "markdown",
   "id": "8268cccb",
   "metadata": {
    "pycharm": {
     "name": "#%% md\n"
    }
   },
   "source": [
    "# Weather measuring system"
   ]
  },
  {
   "cell_type": "code",
   "execution_count": 16,
   "id": "71443505",
   "metadata": {
    "pycharm": {
     "name": "#%%\n"
    }
   },
   "outputs": [
    {
     "data": {
      "text/plain": "shape: (1000, 2)\n┌────────────────────────────┬─────────────────────────────────────┐\n│ Key                        ┆ SystemIRI                           │\n│ ---                        ┆ ---                                 │\n│ str                        ┆ str                                 │\n╞════════════════════════════╪═════════════════════════════════════╡\n│ WeatherMeasuringSystem1    ┆ https://github.com/magbak/otit_s... │\n├╌╌╌╌╌╌╌╌╌╌╌╌╌╌╌╌╌╌╌╌╌╌╌╌╌╌╌╌┼╌╌╌╌╌╌╌╌╌╌╌╌╌╌╌╌╌╌╌╌╌╌╌╌╌╌╌╌╌╌╌╌╌╌╌╌╌┤\n│ WeatherMeasuringSystem2    ┆ https://github.com/magbak/otit_s... │\n├╌╌╌╌╌╌╌╌╌╌╌╌╌╌╌╌╌╌╌╌╌╌╌╌╌╌╌╌┼╌╌╌╌╌╌╌╌╌╌╌╌╌╌╌╌╌╌╌╌╌╌╌╌╌╌╌╌╌╌╌╌╌╌╌╌╌┤\n│ WeatherMeasuringSystem3    ┆ https://github.com/magbak/otit_s... │\n├╌╌╌╌╌╌╌╌╌╌╌╌╌╌╌╌╌╌╌╌╌╌╌╌╌╌╌╌┼╌╌╌╌╌╌╌╌╌╌╌╌╌╌╌╌╌╌╌╌╌╌╌╌╌╌╌╌╌╌╌╌╌╌╌╌╌┤\n│ WeatherMeasuringSystem4    ┆ https://github.com/magbak/otit_s... │\n├╌╌╌╌╌╌╌╌╌╌╌╌╌╌╌╌╌╌╌╌╌╌╌╌╌╌╌╌┼╌╌╌╌╌╌╌╌╌╌╌╌╌╌╌╌╌╌╌╌╌╌╌╌╌╌╌╌╌╌╌╌╌╌╌╌╌┤\n│ ...                        ┆ ...                                 │\n├╌╌╌╌╌╌╌╌╌╌╌╌╌╌╌╌╌╌╌╌╌╌╌╌╌╌╌╌┼╌╌╌╌╌╌╌╌╌╌╌╌╌╌╌╌╌╌╌╌╌╌╌╌╌╌╌╌╌╌╌╌╌╌╌╌╌┤\n│ WeatherMeasuringSystem997  ┆ https://github.com/magbak/otit_s... │\n├╌╌╌╌╌╌╌╌╌╌╌╌╌╌╌╌╌╌╌╌╌╌╌╌╌╌╌╌┼╌╌╌╌╌╌╌╌╌╌╌╌╌╌╌╌╌╌╌╌╌╌╌╌╌╌╌╌╌╌╌╌╌╌╌╌╌┤\n│ WeatherMeasuringSystem998  ┆ https://github.com/magbak/otit_s... │\n├╌╌╌╌╌╌╌╌╌╌╌╌╌╌╌╌╌╌╌╌╌╌╌╌╌╌╌╌┼╌╌╌╌╌╌╌╌╌╌╌╌╌╌╌╌╌╌╌╌╌╌╌╌╌╌╌╌╌╌╌╌╌╌╌╌╌┤\n│ WeatherMeasuringSystem999  ┆ https://github.com/magbak/otit_s... │\n├╌╌╌╌╌╌╌╌╌╌╌╌╌╌╌╌╌╌╌╌╌╌╌╌╌╌╌╌┼╌╌╌╌╌╌╌╌╌╌╌╌╌╌╌╌╌╌╌╌╌╌╌╌╌╌╌╌╌╌╌╌╌╌╌╌╌┤\n│ WeatherMeasuringSystem1000 ┆ https://github.com/magbak/otit_s... │\n└────────────────────────────┴─────────────────────────────────────┘",
      "text/html": "<div>\n<style scoped>\n    .dataframe tbody tr th:only-of-type {\n        vertical-align: middle;\n    }\n\n    .dataframe tbody tr th {\n        vertical-align: top;\n    }\n\n    .dataframe thead th {\n        text-align: right;\n    }\n\n    .dataframe td {\n        white-space: pre;\n    }\n\n    .dataframe td {\n        padding-top: 0;\n    }\n\n    .dataframe td {\n        padding-bottom: 0;\n    }\n\n    .dataframe td {\n        line-height: 95%;\n    }\n</style>\n<table border=\"1\" class=\"dataframe\" >\n<small>shape: (1000, 2)</small>\n<thead>\n<tr>\n<th>\nKey\n</th>\n<th>\nSystemIRI\n</th>\n</tr>\n<tr>\n<td>\nstr\n</td>\n<td>\nstr\n</td>\n</tr>\n</thead>\n<tbody>\n<tr>\n<td>\n\"WeatherMeasuri...\n</td>\n<td>\n\"https://github...\n</td>\n</tr>\n<tr>\n<td>\n\"WeatherMeasuri...\n</td>\n<td>\n\"https://github...\n</td>\n</tr>\n<tr>\n<td>\n\"WeatherMeasuri...\n</td>\n<td>\n\"https://github...\n</td>\n</tr>\n<tr>\n<td>\n\"WeatherMeasuri...\n</td>\n<td>\n\"https://github...\n</td>\n</tr>\n<tr>\n<td>\n\"WeatherMeasuri...\n</td>\n<td>\n\"https://github...\n</td>\n</tr>\n<tr>\n<td>\n\"WeatherMeasuri...\n</td>\n<td>\n\"https://github...\n</td>\n</tr>\n<tr>\n<td>\n\"WeatherMeasuri...\n</td>\n<td>\n\"https://github...\n</td>\n</tr>\n<tr>\n<td>\n\"WeatherMeasuri...\n</td>\n<td>\n\"https://github...\n</td>\n</tr>\n<tr>\n<td>\n\"WeatherMeasuri...\n</td>\n<td>\n\"https://github...\n</td>\n</tr>\n<tr>\n<td>\n\"WeatherMeasuri...\n</td>\n<td>\n\"https://github...\n</td>\n</tr>\n<tr>\n<td>\n\"WeatherMeasuri...\n</td>\n<td>\n\"https://github...\n</td>\n</tr>\n<tr>\n<td>\n\"WeatherMeasuri...\n</td>\n<td>\n\"https://github...\n</td>\n</tr>\n<tr>\n<td>\n...\n</td>\n<td>\n...\n</td>\n</tr>\n<tr>\n<td>\n\"WeatherMeasuri...\n</td>\n<td>\n\"https://github...\n</td>\n</tr>\n<tr>\n<td>\n\"WeatherMeasuri...\n</td>\n<td>\n\"https://github...\n</td>\n</tr>\n<tr>\n<td>\n\"WeatherMeasuri...\n</td>\n<td>\n\"https://github...\n</td>\n</tr>\n<tr>\n<td>\n\"WeatherMeasuri...\n</td>\n<td>\n\"https://github...\n</td>\n</tr>\n<tr>\n<td>\n\"WeatherMeasuri...\n</td>\n<td>\n\"https://github...\n</td>\n</tr>\n<tr>\n<td>\n\"WeatherMeasuri...\n</td>\n<td>\n\"https://github...\n</td>\n</tr>\n<tr>\n<td>\n\"WeatherMeasuri...\n</td>\n<td>\n\"https://github...\n</td>\n</tr>\n<tr>\n<td>\n\"WeatherMeasuri...\n</td>\n<td>\n\"https://github...\n</td>\n</tr>\n<tr>\n<td>\n\"WeatherMeasuri...\n</td>\n<td>\n\"https://github...\n</td>\n</tr>\n<tr>\n<td>\n\"WeatherMeasuri...\n</td>\n<td>\n\"https://github...\n</td>\n</tr>\n<tr>\n<td>\n\"WeatherMeasuri...\n</td>\n<td>\n\"https://github...\n</td>\n</tr>\n<tr>\n<td>\n\"WeatherMeasuri...\n</td>\n<td>\n\"https://github...\n</td>\n</tr>\n</tbody>\n</table>\n</div>"
     },
     "execution_count": 16,
     "metadata": {},
     "output_type": "execute_result"
    }
   ],
   "source": [
    "wms_keys = [\"WeatherMeasuringSystem\" + str(i) for i in range(1,n+1)]\n",
    "wms = pl.DataFrame(\n",
    "    {\n",
    "    \"Key\":wms_keys,\n",
    "    \"RDSType\": [\"LE\"]*n,\n",
    "    \"Label\": [\"Weather Measuring System\"]*n\n",
    "    })\n",
    "wms_mint_iris = {\n",
    "    \"SystemIRI\":MintingOptions(\n",
    "        prefix=\"https://github.com/magbak/otit_swt/windpower_example#WeatherMeasuringSystem\", \n",
    "        numbering_suffix_start=1)\n",
    "    }\n",
    "mapping.expand(\"tpl:RDSSystem\", wms, \n",
    "               mint_iris=wms_mint_iris)"
   ]
  },
  {
   "cell_type": "code",
   "execution_count": 17,
   "id": "1506cec0",
   "metadata": {
    "pycharm": {
     "name": "#%%\n"
    }
   },
   "outputs": [
    {
     "data": {
      "text/plain": "shape: (1000, 2)\n┌─────────────────────────────────────┬─────────────────────────────────────┐\n│ Key                                 ┆ TimeseriesNodeIRI                   │\n│ ---                                 ┆ ---                                 │\n│ str                                 ┆ str                                 │\n╞═════════════════════════════════════╪═════════════════════════════════════╡\n│ WeatherMeasuringSystem1_windspee... ┆ https://github.com/magbak/otit_s... │\n├╌╌╌╌╌╌╌╌╌╌╌╌╌╌╌╌╌╌╌╌╌╌╌╌╌╌╌╌╌╌╌╌╌╌╌╌╌┼╌╌╌╌╌╌╌╌╌╌╌╌╌╌╌╌╌╌╌╌╌╌╌╌╌╌╌╌╌╌╌╌╌╌╌╌╌┤\n│ WeatherMeasuringSystem2_windspee... ┆ https://github.com/magbak/otit_s... │\n├╌╌╌╌╌╌╌╌╌╌╌╌╌╌╌╌╌╌╌╌╌╌╌╌╌╌╌╌╌╌╌╌╌╌╌╌╌┼╌╌╌╌╌╌╌╌╌╌╌╌╌╌╌╌╌╌╌╌╌╌╌╌╌╌╌╌╌╌╌╌╌╌╌╌╌┤\n│ WeatherMeasuringSystem3_windspee... ┆ https://github.com/magbak/otit_s... │\n├╌╌╌╌╌╌╌╌╌╌╌╌╌╌╌╌╌╌╌╌╌╌╌╌╌╌╌╌╌╌╌╌╌╌╌╌╌┼╌╌╌╌╌╌╌╌╌╌╌╌╌╌╌╌╌╌╌╌╌╌╌╌╌╌╌╌╌╌╌╌╌╌╌╌╌┤\n│ WeatherMeasuringSystem4_windspee... ┆ https://github.com/magbak/otit_s... │\n├╌╌╌╌╌╌╌╌╌╌╌╌╌╌╌╌╌╌╌╌╌╌╌╌╌╌╌╌╌╌╌╌╌╌╌╌╌┼╌╌╌╌╌╌╌╌╌╌╌╌╌╌╌╌╌╌╌╌╌╌╌╌╌╌╌╌╌╌╌╌╌╌╌╌╌┤\n│ ...                                 ┆ ...                                 │\n├╌╌╌╌╌╌╌╌╌╌╌╌╌╌╌╌╌╌╌╌╌╌╌╌╌╌╌╌╌╌╌╌╌╌╌╌╌┼╌╌╌╌╌╌╌╌╌╌╌╌╌╌╌╌╌╌╌╌╌╌╌╌╌╌╌╌╌╌╌╌╌╌╌╌╌┤\n│ WeatherMeasuringSystem997_windsp... ┆ https://github.com/magbak/otit_s... │\n├╌╌╌╌╌╌╌╌╌╌╌╌╌╌╌╌╌╌╌╌╌╌╌╌╌╌╌╌╌╌╌╌╌╌╌╌╌┼╌╌╌╌╌╌╌╌╌╌╌╌╌╌╌╌╌╌╌╌╌╌╌╌╌╌╌╌╌╌╌╌╌╌╌╌╌┤\n│ WeatherMeasuringSystem998_windsp... ┆ https://github.com/magbak/otit_s... │\n├╌╌╌╌╌╌╌╌╌╌╌╌╌╌╌╌╌╌╌╌╌╌╌╌╌╌╌╌╌╌╌╌╌╌╌╌╌┼╌╌╌╌╌╌╌╌╌╌╌╌╌╌╌╌╌╌╌╌╌╌╌╌╌╌╌╌╌╌╌╌╌╌╌╌╌┤\n│ WeatherMeasuringSystem999_windsp... ┆ https://github.com/magbak/otit_s... │\n├╌╌╌╌╌╌╌╌╌╌╌╌╌╌╌╌╌╌╌╌╌╌╌╌╌╌╌╌╌╌╌╌╌╌╌╌╌┼╌╌╌╌╌╌╌╌╌╌╌╌╌╌╌╌╌╌╌╌╌╌╌╌╌╌╌╌╌╌╌╌╌╌╌╌╌┤\n│ WeatherMeasuringSystem1000_winds... ┆ https://github.com/magbak/otit_s... │\n└─────────────────────────────────────┴─────────────────────────────────────┘",
      "text/html": "<div>\n<style scoped>\n    .dataframe tbody tr th:only-of-type {\n        vertical-align: middle;\n    }\n\n    .dataframe tbody tr th {\n        vertical-align: top;\n    }\n\n    .dataframe thead th {\n        text-align: right;\n    }\n\n    .dataframe td {\n        white-space: pre;\n    }\n\n    .dataframe td {\n        padding-top: 0;\n    }\n\n    .dataframe td {\n        padding-bottom: 0;\n    }\n\n    .dataframe td {\n        line-height: 95%;\n    }\n</style>\n<table border=\"1\" class=\"dataframe\" >\n<small>shape: (1000, 2)</small>\n<thead>\n<tr>\n<th>\nKey\n</th>\n<th>\nTimeseriesNodeIRI\n</th>\n</tr>\n<tr>\n<td>\nstr\n</td>\n<td>\nstr\n</td>\n</tr>\n</thead>\n<tbody>\n<tr>\n<td>\n\"WeatherMeasuri...\n</td>\n<td>\n\"https://github...\n</td>\n</tr>\n<tr>\n<td>\n\"WeatherMeasuri...\n</td>\n<td>\n\"https://github...\n</td>\n</tr>\n<tr>\n<td>\n\"WeatherMeasuri...\n</td>\n<td>\n\"https://github...\n</td>\n</tr>\n<tr>\n<td>\n\"WeatherMeasuri...\n</td>\n<td>\n\"https://github...\n</td>\n</tr>\n<tr>\n<td>\n\"WeatherMeasuri...\n</td>\n<td>\n\"https://github...\n</td>\n</tr>\n<tr>\n<td>\n\"WeatherMeasuri...\n</td>\n<td>\n\"https://github...\n</td>\n</tr>\n<tr>\n<td>\n\"WeatherMeasuri...\n</td>\n<td>\n\"https://github...\n</td>\n</tr>\n<tr>\n<td>\n\"WeatherMeasuri...\n</td>\n<td>\n\"https://github...\n</td>\n</tr>\n<tr>\n<td>\n\"WeatherMeasuri...\n</td>\n<td>\n\"https://github...\n</td>\n</tr>\n<tr>\n<td>\n\"WeatherMeasuri...\n</td>\n<td>\n\"https://github...\n</td>\n</tr>\n<tr>\n<td>\n\"WeatherMeasuri...\n</td>\n<td>\n\"https://github...\n</td>\n</tr>\n<tr>\n<td>\n\"WeatherMeasuri...\n</td>\n<td>\n\"https://github...\n</td>\n</tr>\n<tr>\n<td>\n...\n</td>\n<td>\n...\n</td>\n</tr>\n<tr>\n<td>\n\"WeatherMeasuri...\n</td>\n<td>\n\"https://github...\n</td>\n</tr>\n<tr>\n<td>\n\"WeatherMeasuri...\n</td>\n<td>\n\"https://github...\n</td>\n</tr>\n<tr>\n<td>\n\"WeatherMeasuri...\n</td>\n<td>\n\"https://github...\n</td>\n</tr>\n<tr>\n<td>\n\"WeatherMeasuri...\n</td>\n<td>\n\"https://github...\n</td>\n</tr>\n<tr>\n<td>\n\"WeatherMeasuri...\n</td>\n<td>\n\"https://github...\n</td>\n</tr>\n<tr>\n<td>\n\"WeatherMeasuri...\n</td>\n<td>\n\"https://github...\n</td>\n</tr>\n<tr>\n<td>\n\"WeatherMeasuri...\n</td>\n<td>\n\"https://github...\n</td>\n</tr>\n<tr>\n<td>\n\"WeatherMeasuri...\n</td>\n<td>\n\"https://github...\n</td>\n</tr>\n<tr>\n<td>\n\"WeatherMeasuri...\n</td>\n<td>\n\"https://github...\n</td>\n</tr>\n<tr>\n<td>\n\"WeatherMeasuri...\n</td>\n<td>\n\"https://github...\n</td>\n</tr>\n<tr>\n<td>\n\"WeatherMeasuri...\n</td>\n<td>\n\"https://github...\n</td>\n</tr>\n<tr>\n<td>\n\"WeatherMeasuri...\n</td>\n<td>\n\"https://github...\n</td>\n</tr>\n</tbody>\n</table>\n</div>"
     },
     "execution_count": 17,
     "metadata": {},
     "output_type": "execute_result"
    }
   ],
   "source": [
    "wind_speed_external_ids = [\"wsp\" + str(i) for i in range(1,n+1)]\n",
    "wind_speed = pl.DataFrame ({\n",
    "    \"Key\": [k + \"_windspeed\" for k in wms_keys],\n",
    "    \"Label\": [\"Windspeed\"]*n,\n",
    "    \"ParentIRIKey\" :wms_keys,\n",
    "    \"ExternalId\": energy_production_external_ids,\n",
    "    \"Datatype\": [\"http://www.w3.org/2001/XMLSchema#double\"]*n\n",
    "})\n",
    "wind_speed_mint_iris = {\n",
    "    \"TimeseriesNodeIRI\": MintingOptions(prefix=wpex + \"WindSpeed\",\n",
    "                                        numbering_suffix_start=1)\n",
    "}\n",
    "wind_speed_resolve_iris = {\n",
    "    \"ParentIRI\": ResolveIRI(key_column=\"ParentIRIKey\", \n",
    "                           template=\"tpl:RDSSystem\",\n",
    "                           argument=\"SystemIRI\")\n",
    "}\n",
    "mapping.expand(\"tpl:Timeseries\", wind_speed, \n",
    "               mint_iris=wind_speed_mint_iris,\n",
    "              resolve_iris=wind_speed_resolve_iris)"
   ]
  },
  {
   "cell_type": "code",
   "execution_count": 18,
   "id": "7af82e98",
   "metadata": {
    "pycharm": {
     "name": "#%%\n"
    }
   },
   "outputs": [
    {
     "data": {
      "text/plain": "shape: (1000, 2)\n┌─────────────────────────────────────┬─────────────────────────────────────┐\n│ Key                                 ┆ TimeseriesNodeIRI                   │\n│ ---                                 ┆ ---                                 │\n│ str                                 ┆ str                                 │\n╞═════════════════════════════════════╪═════════════════════════════════════╡\n│ WeatherMeasuringSystem1_winddire... ┆ https://github.com/magbak/otit_s... │\n├╌╌╌╌╌╌╌╌╌╌╌╌╌╌╌╌╌╌╌╌╌╌╌╌╌╌╌╌╌╌╌╌╌╌╌╌╌┼╌╌╌╌╌╌╌╌╌╌╌╌╌╌╌╌╌╌╌╌╌╌╌╌╌╌╌╌╌╌╌╌╌╌╌╌╌┤\n│ WeatherMeasuringSystem2_winddire... ┆ https://github.com/magbak/otit_s... │\n├╌╌╌╌╌╌╌╌╌╌╌╌╌╌╌╌╌╌╌╌╌╌╌╌╌╌╌╌╌╌╌╌╌╌╌╌╌┼╌╌╌╌╌╌╌╌╌╌╌╌╌╌╌╌╌╌╌╌╌╌╌╌╌╌╌╌╌╌╌╌╌╌╌╌╌┤\n│ WeatherMeasuringSystem3_winddire... ┆ https://github.com/magbak/otit_s... │\n├╌╌╌╌╌╌╌╌╌╌╌╌╌╌╌╌╌╌╌╌╌╌╌╌╌╌╌╌╌╌╌╌╌╌╌╌╌┼╌╌╌╌╌╌╌╌╌╌╌╌╌╌╌╌╌╌╌╌╌╌╌╌╌╌╌╌╌╌╌╌╌╌╌╌╌┤\n│ WeatherMeasuringSystem4_winddire... ┆ https://github.com/magbak/otit_s... │\n├╌╌╌╌╌╌╌╌╌╌╌╌╌╌╌╌╌╌╌╌╌╌╌╌╌╌╌╌╌╌╌╌╌╌╌╌╌┼╌╌╌╌╌╌╌╌╌╌╌╌╌╌╌╌╌╌╌╌╌╌╌╌╌╌╌╌╌╌╌╌╌╌╌╌╌┤\n│ ...                                 ┆ ...                                 │\n├╌╌╌╌╌╌╌╌╌╌╌╌╌╌╌╌╌╌╌╌╌╌╌╌╌╌╌╌╌╌╌╌╌╌╌╌╌┼╌╌╌╌╌╌╌╌╌╌╌╌╌╌╌╌╌╌╌╌╌╌╌╌╌╌╌╌╌╌╌╌╌╌╌╌╌┤\n│ WeatherMeasuringSystem997_winddi... ┆ https://github.com/magbak/otit_s... │\n├╌╌╌╌╌╌╌╌╌╌╌╌╌╌╌╌╌╌╌╌╌╌╌╌╌╌╌╌╌╌╌╌╌╌╌╌╌┼╌╌╌╌╌╌╌╌╌╌╌╌╌╌╌╌╌╌╌╌╌╌╌╌╌╌╌╌╌╌╌╌╌╌╌╌╌┤\n│ WeatherMeasuringSystem998_winddi... ┆ https://github.com/magbak/otit_s... │\n├╌╌╌╌╌╌╌╌╌╌╌╌╌╌╌╌╌╌╌╌╌╌╌╌╌╌╌╌╌╌╌╌╌╌╌╌╌┼╌╌╌╌╌╌╌╌╌╌╌╌╌╌╌╌╌╌╌╌╌╌╌╌╌╌╌╌╌╌╌╌╌╌╌╌╌┤\n│ WeatherMeasuringSystem999_winddi... ┆ https://github.com/magbak/otit_s... │\n├╌╌╌╌╌╌╌╌╌╌╌╌╌╌╌╌╌╌╌╌╌╌╌╌╌╌╌╌╌╌╌╌╌╌╌╌╌┼╌╌╌╌╌╌╌╌╌╌╌╌╌╌╌╌╌╌╌╌╌╌╌╌╌╌╌╌╌╌╌╌╌╌╌╌╌┤\n│ WeatherMeasuringSystem1000_windd... ┆ https://github.com/magbak/otit_s... │\n└─────────────────────────────────────┴─────────────────────────────────────┘",
      "text/html": "<div>\n<style scoped>\n    .dataframe tbody tr th:only-of-type {\n        vertical-align: middle;\n    }\n\n    .dataframe tbody tr th {\n        vertical-align: top;\n    }\n\n    .dataframe thead th {\n        text-align: right;\n    }\n\n    .dataframe td {\n        white-space: pre;\n    }\n\n    .dataframe td {\n        padding-top: 0;\n    }\n\n    .dataframe td {\n        padding-bottom: 0;\n    }\n\n    .dataframe td {\n        line-height: 95%;\n    }\n</style>\n<table border=\"1\" class=\"dataframe\" >\n<small>shape: (1000, 2)</small>\n<thead>\n<tr>\n<th>\nKey\n</th>\n<th>\nTimeseriesNodeIRI\n</th>\n</tr>\n<tr>\n<td>\nstr\n</td>\n<td>\nstr\n</td>\n</tr>\n</thead>\n<tbody>\n<tr>\n<td>\n\"WeatherMeasuri...\n</td>\n<td>\n\"https://github...\n</td>\n</tr>\n<tr>\n<td>\n\"WeatherMeasuri...\n</td>\n<td>\n\"https://github...\n</td>\n</tr>\n<tr>\n<td>\n\"WeatherMeasuri...\n</td>\n<td>\n\"https://github...\n</td>\n</tr>\n<tr>\n<td>\n\"WeatherMeasuri...\n</td>\n<td>\n\"https://github...\n</td>\n</tr>\n<tr>\n<td>\n\"WeatherMeasuri...\n</td>\n<td>\n\"https://github...\n</td>\n</tr>\n<tr>\n<td>\n\"WeatherMeasuri...\n</td>\n<td>\n\"https://github...\n</td>\n</tr>\n<tr>\n<td>\n\"WeatherMeasuri...\n</td>\n<td>\n\"https://github...\n</td>\n</tr>\n<tr>\n<td>\n\"WeatherMeasuri...\n</td>\n<td>\n\"https://github...\n</td>\n</tr>\n<tr>\n<td>\n\"WeatherMeasuri...\n</td>\n<td>\n\"https://github...\n</td>\n</tr>\n<tr>\n<td>\n\"WeatherMeasuri...\n</td>\n<td>\n\"https://github...\n</td>\n</tr>\n<tr>\n<td>\n\"WeatherMeasuri...\n</td>\n<td>\n\"https://github...\n</td>\n</tr>\n<tr>\n<td>\n\"WeatherMeasuri...\n</td>\n<td>\n\"https://github...\n</td>\n</tr>\n<tr>\n<td>\n...\n</td>\n<td>\n...\n</td>\n</tr>\n<tr>\n<td>\n\"WeatherMeasuri...\n</td>\n<td>\n\"https://github...\n</td>\n</tr>\n<tr>\n<td>\n\"WeatherMeasuri...\n</td>\n<td>\n\"https://github...\n</td>\n</tr>\n<tr>\n<td>\n\"WeatherMeasuri...\n</td>\n<td>\n\"https://github...\n</td>\n</tr>\n<tr>\n<td>\n\"WeatherMeasuri...\n</td>\n<td>\n\"https://github...\n</td>\n</tr>\n<tr>\n<td>\n\"WeatherMeasuri...\n</td>\n<td>\n\"https://github...\n</td>\n</tr>\n<tr>\n<td>\n\"WeatherMeasuri...\n</td>\n<td>\n\"https://github...\n</td>\n</tr>\n<tr>\n<td>\n\"WeatherMeasuri...\n</td>\n<td>\n\"https://github...\n</td>\n</tr>\n<tr>\n<td>\n\"WeatherMeasuri...\n</td>\n<td>\n\"https://github...\n</td>\n</tr>\n<tr>\n<td>\n\"WeatherMeasuri...\n</td>\n<td>\n\"https://github...\n</td>\n</tr>\n<tr>\n<td>\n\"WeatherMeasuri...\n</td>\n<td>\n\"https://github...\n</td>\n</tr>\n<tr>\n<td>\n\"WeatherMeasuri...\n</td>\n<td>\n\"https://github...\n</td>\n</tr>\n<tr>\n<td>\n\"WeatherMeasuri...\n</td>\n<td>\n\"https://github...\n</td>\n</tr>\n</tbody>\n</table>\n</div>"
     },
     "execution_count": 18,
     "metadata": {},
     "output_type": "execute_result"
    }
   ],
   "source": [
    "wind_direction_external_ids = [\"wdir\" + str(i) for i in range(1,n+1)]\n",
    "wind_direction = pl.DataFrame ({\n",
    "    \"Key\": [k + \"_winddirection\" for k in wms_keys],\n",
    "    \"Label\": [\"WindDirection\"]*n,\n",
    "    \"ParentIRIKey\" :wms_keys,\n",
    "    \"ExternalId\": energy_production_external_ids,\n",
    "    \"Datatype\": [\"http://www.w3.org/2001/XMLSchema#double\"]*n\n",
    "})\n",
    "wind_direction_mint_iris = {\n",
    "    \"TimeseriesNodeIRI\": MintingOptions(prefix=wpex + \"WindDirection\",\n",
    "                                        numbering_suffix_start=1)\n",
    "}\n",
    "wind_direction_resolve_iris = {\n",
    "    \"ParentIRI\": ResolveIRI(key_column=\"ParentIRIKey\", \n",
    "                           template=\"tpl:RDSSystem\",\n",
    "                           argument=\"SystemIRI\")\n",
    "}\n",
    "mapping.expand(\"tpl:Timeseries\", wind_direction, \n",
    "               mint_iris=wind_speed_mint_iris,\n",
    "              resolve_iris=wind_speed_resolve_iris)"
   ]
  },
  {
   "cell_type": "code",
   "execution_count": 19,
   "id": "b4039d4e",
   "metadata": {
    "pycharm": {
     "name": "#%%\n"
    }
   },
   "outputs": [
    {
     "data": {
      "text/plain": "shape: (1000, 2)\n┌──────────────────────────┬─────────────────────────────────────┐\n│ Key                      ┆ TimeseriesNodeIRI                   │\n│ ---                      ┆ ---                                 │\n│ str                      ┆ str                                 │\n╞══════════════════════════╪═════════════════════════════════════╡\n│ Generator1_production    ┆ https://github.com/magbak/otit_s... │\n├╌╌╌╌╌╌╌╌╌╌╌╌╌╌╌╌╌╌╌╌╌╌╌╌╌╌┼╌╌╌╌╌╌╌╌╌╌╌╌╌╌╌╌╌╌╌╌╌╌╌╌╌╌╌╌╌╌╌╌╌╌╌╌╌┤\n│ Generator2_production    ┆ https://github.com/magbak/otit_s... │\n├╌╌╌╌╌╌╌╌╌╌╌╌╌╌╌╌╌╌╌╌╌╌╌╌╌╌┼╌╌╌╌╌╌╌╌╌╌╌╌╌╌╌╌╌╌╌╌╌╌╌╌╌╌╌╌╌╌╌╌╌╌╌╌╌┤\n│ Generator3_production    ┆ https://github.com/magbak/otit_s... │\n├╌╌╌╌╌╌╌╌╌╌╌╌╌╌╌╌╌╌╌╌╌╌╌╌╌╌┼╌╌╌╌╌╌╌╌╌╌╌╌╌╌╌╌╌╌╌╌╌╌╌╌╌╌╌╌╌╌╌╌╌╌╌╌╌┤\n│ Generator4_production    ┆ https://github.com/magbak/otit_s... │\n├╌╌╌╌╌╌╌╌╌╌╌╌╌╌╌╌╌╌╌╌╌╌╌╌╌╌┼╌╌╌╌╌╌╌╌╌╌╌╌╌╌╌╌╌╌╌╌╌╌╌╌╌╌╌╌╌╌╌╌╌╌╌╌╌┤\n│ ...                      ┆ ...                                 │\n├╌╌╌╌╌╌╌╌╌╌╌╌╌╌╌╌╌╌╌╌╌╌╌╌╌╌┼╌╌╌╌╌╌╌╌╌╌╌╌╌╌╌╌╌╌╌╌╌╌╌╌╌╌╌╌╌╌╌╌╌╌╌╌╌┤\n│ Generator997_production  ┆ https://github.com/magbak/otit_s... │\n├╌╌╌╌╌╌╌╌╌╌╌╌╌╌╌╌╌╌╌╌╌╌╌╌╌╌┼╌╌╌╌╌╌╌╌╌╌╌╌╌╌╌╌╌╌╌╌╌╌╌╌╌╌╌╌╌╌╌╌╌╌╌╌╌┤\n│ Generator998_production  ┆ https://github.com/magbak/otit_s... │\n├╌╌╌╌╌╌╌╌╌╌╌╌╌╌╌╌╌╌╌╌╌╌╌╌╌╌┼╌╌╌╌╌╌╌╌╌╌╌╌╌╌╌╌╌╌╌╌╌╌╌╌╌╌╌╌╌╌╌╌╌╌╌╌╌┤\n│ Generator999_production  ┆ https://github.com/magbak/otit_s... │\n├╌╌╌╌╌╌╌╌╌╌╌╌╌╌╌╌╌╌╌╌╌╌╌╌╌╌┼╌╌╌╌╌╌╌╌╌╌╌╌╌╌╌╌╌╌╌╌╌╌╌╌╌╌╌╌╌╌╌╌╌╌╌╌╌┤\n│ Generator1000_production ┆ https://github.com/magbak/otit_s... │\n└──────────────────────────┴─────────────────────────────────────┘",
      "text/html": "<div>\n<style scoped>\n    .dataframe tbody tr th:only-of-type {\n        vertical-align: middle;\n    }\n\n    .dataframe tbody tr th {\n        vertical-align: top;\n    }\n\n    .dataframe thead th {\n        text-align: right;\n    }\n\n    .dataframe td {\n        white-space: pre;\n    }\n\n    .dataframe td {\n        padding-top: 0;\n    }\n\n    .dataframe td {\n        padding-bottom: 0;\n    }\n\n    .dataframe td {\n        line-height: 95%;\n    }\n</style>\n<table border=\"1\" class=\"dataframe\" >\n<small>shape: (1000, 2)</small>\n<thead>\n<tr>\n<th>\nKey\n</th>\n<th>\nTimeseriesNodeIRI\n</th>\n</tr>\n<tr>\n<td>\nstr\n</td>\n<td>\nstr\n</td>\n</tr>\n</thead>\n<tbody>\n<tr>\n<td>\n\"Generator1_pro...\n</td>\n<td>\n\"https://github...\n</td>\n</tr>\n<tr>\n<td>\n\"Generator2_pro...\n</td>\n<td>\n\"https://github...\n</td>\n</tr>\n<tr>\n<td>\n\"Generator3_pro...\n</td>\n<td>\n\"https://github...\n</td>\n</tr>\n<tr>\n<td>\n\"Generator4_pro...\n</td>\n<td>\n\"https://github...\n</td>\n</tr>\n<tr>\n<td>\n\"Generator5_pro...\n</td>\n<td>\n\"https://github...\n</td>\n</tr>\n<tr>\n<td>\n\"Generator6_pro...\n</td>\n<td>\n\"https://github...\n</td>\n</tr>\n<tr>\n<td>\n\"Generator7_pro...\n</td>\n<td>\n\"https://github...\n</td>\n</tr>\n<tr>\n<td>\n\"Generator8_pro...\n</td>\n<td>\n\"https://github...\n</td>\n</tr>\n<tr>\n<td>\n\"Generator9_pro...\n</td>\n<td>\n\"https://github...\n</td>\n</tr>\n<tr>\n<td>\n\"Generator10_pr...\n</td>\n<td>\n\"https://github...\n</td>\n</tr>\n<tr>\n<td>\n\"Generator11_pr...\n</td>\n<td>\n\"https://github...\n</td>\n</tr>\n<tr>\n<td>\n\"Generator12_pr...\n</td>\n<td>\n\"https://github...\n</td>\n</tr>\n<tr>\n<td>\n...\n</td>\n<td>\n...\n</td>\n</tr>\n<tr>\n<td>\n\"Generator989_p...\n</td>\n<td>\n\"https://github...\n</td>\n</tr>\n<tr>\n<td>\n\"Generator990_p...\n</td>\n<td>\n\"https://github...\n</td>\n</tr>\n<tr>\n<td>\n\"Generator991_p...\n</td>\n<td>\n\"https://github...\n</td>\n</tr>\n<tr>\n<td>\n\"Generator992_p...\n</td>\n<td>\n\"https://github...\n</td>\n</tr>\n<tr>\n<td>\n\"Generator993_p...\n</td>\n<td>\n\"https://github...\n</td>\n</tr>\n<tr>\n<td>\n\"Generator994_p...\n</td>\n<td>\n\"https://github...\n</td>\n</tr>\n<tr>\n<td>\n\"Generator995_p...\n</td>\n<td>\n\"https://github...\n</td>\n</tr>\n<tr>\n<td>\n\"Generator996_p...\n</td>\n<td>\n\"https://github...\n</td>\n</tr>\n<tr>\n<td>\n\"Generator997_p...\n</td>\n<td>\n\"https://github...\n</td>\n</tr>\n<tr>\n<td>\n\"Generator998_p...\n</td>\n<td>\n\"https://github...\n</td>\n</tr>\n<tr>\n<td>\n\"Generator999_p...\n</td>\n<td>\n\"https://github...\n</td>\n</tr>\n<tr>\n<td>\n\"Generator1000_...\n</td>\n<td>\n\"https://github...\n</td>\n</tr>\n</tbody>\n</table>\n</div>"
     },
     "execution_count": 19,
     "metadata": {},
     "output_type": "execute_result"
    }
   ],
   "source": [
    "energy_production_external_ids = [\"ep\" + str(i) for i in range(1,n+1)]\n",
    "energy_production = pl.DataFrame ({\n",
    "    \"Key\": [k + \"_production\" for k in generator_keys],\n",
    "    \"Label\": [\"Production\"]*n,\n",
    "    \"ParentIRIKey\" :wind_turbine_keys,\n",
    "    \"ExternalId\": energy_production_external_ids,\n",
    "    \"Datatype\": [\"http://www.w3.org/2001/XMLSchema#integer\"]*n\n",
    "})\n",
    "energy_production_mint_iris = {\n",
    "    \"TimeseriesNodeIRI\": MintingOptions(prefix=wpex + \"EnergyProduction\",\n",
    "                                        numbering_suffix_start=1)\n",
    "}\n",
    "energy_production_resolve_iris = {\n",
    "    \"ParentIRI\": ResolveIRI(key_column=\"ParentIRIKey\", \n",
    "                           template=\"tpl:RDSSystem\",\n",
    "                           argument=\"SystemIRI\")\n",
    "}\n",
    "mapping.expand(\"tpl:Timeseries\", energy_production, \n",
    "               mint_iris=energy_production_mint_iris,\n",
    "              resolve_iris=energy_production_resolve_iris)"
   ]
  },
  {
   "cell_type": "code",
   "execution_count": 20,
   "id": "36e6cffe",
   "metadata": {
    "pycharm": {
     "name": "#%%\n"
    }
   },
   "outputs": [
    {
     "data": {
      "text/plain": "shape: (1000, 2)\n┌─────────────────────────────────────┬─────────────────────────────────────┐\n│ Key                                 ┆ TargetAspectNodeIRI                 │\n│ ---                                 ┆ ---                                 │\n│ str                                 ┆ str                                 │\n╞═════════════════════════════════════╪═════════════════════════════════════╡\n│ WindTurbine1_WeatherMeasuringSys... ┆ https://github.com/magbak/otit_s... │\n├╌╌╌╌╌╌╌╌╌╌╌╌╌╌╌╌╌╌╌╌╌╌╌╌╌╌╌╌╌╌╌╌╌╌╌╌╌┼╌╌╌╌╌╌╌╌╌╌╌╌╌╌╌╌╌╌╌╌╌╌╌╌╌╌╌╌╌╌╌╌╌╌╌╌╌┤\n│ WindTurbine2_WeatherMeasuringSys... ┆ https://github.com/magbak/otit_s... │\n├╌╌╌╌╌╌╌╌╌╌╌╌╌╌╌╌╌╌╌╌╌╌╌╌╌╌╌╌╌╌╌╌╌╌╌╌╌┼╌╌╌╌╌╌╌╌╌╌╌╌╌╌╌╌╌╌╌╌╌╌╌╌╌╌╌╌╌╌╌╌╌╌╌╌╌┤\n│ WindTurbine3_WeatherMeasuringSys... ┆ https://github.com/magbak/otit_s... │\n├╌╌╌╌╌╌╌╌╌╌╌╌╌╌╌╌╌╌╌╌╌╌╌╌╌╌╌╌╌╌╌╌╌╌╌╌╌┼╌╌╌╌╌╌╌╌╌╌╌╌╌╌╌╌╌╌╌╌╌╌╌╌╌╌╌╌╌╌╌╌╌╌╌╌╌┤\n│ WindTurbine4_WeatherMeasuringSys... ┆ https://github.com/magbak/otit_s... │\n├╌╌╌╌╌╌╌╌╌╌╌╌╌╌╌╌╌╌╌╌╌╌╌╌╌╌╌╌╌╌╌╌╌╌╌╌╌┼╌╌╌╌╌╌╌╌╌╌╌╌╌╌╌╌╌╌╌╌╌╌╌╌╌╌╌╌╌╌╌╌╌╌╌╌╌┤\n│ ...                                 ┆ ...                                 │\n├╌╌╌╌╌╌╌╌╌╌╌╌╌╌╌╌╌╌╌╌╌╌╌╌╌╌╌╌╌╌╌╌╌╌╌╌╌┼╌╌╌╌╌╌╌╌╌╌╌╌╌╌╌╌╌╌╌╌╌╌╌╌╌╌╌╌╌╌╌╌╌╌╌╌╌┤\n│ WindTurbine997_WeatherMeasuringS... ┆ https://github.com/magbak/otit_s... │\n├╌╌╌╌╌╌╌╌╌╌╌╌╌╌╌╌╌╌╌╌╌╌╌╌╌╌╌╌╌╌╌╌╌╌╌╌╌┼╌╌╌╌╌╌╌╌╌╌╌╌╌╌╌╌╌╌╌╌╌╌╌╌╌╌╌╌╌╌╌╌╌╌╌╌╌┤\n│ WindTurbine998_WeatherMeasuringS... ┆ https://github.com/magbak/otit_s... │\n├╌╌╌╌╌╌╌╌╌╌╌╌╌╌╌╌╌╌╌╌╌╌╌╌╌╌╌╌╌╌╌╌╌╌╌╌╌┼╌╌╌╌╌╌╌╌╌╌╌╌╌╌╌╌╌╌╌╌╌╌╌╌╌╌╌╌╌╌╌╌╌╌╌╌╌┤\n│ WindTurbine999_WeatherMeasuringS... ┆ https://github.com/magbak/otit_s... │\n├╌╌╌╌╌╌╌╌╌╌╌╌╌╌╌╌╌╌╌╌╌╌╌╌╌╌╌╌╌╌╌╌╌╌╌╌╌┼╌╌╌╌╌╌╌╌╌╌╌╌╌╌╌╌╌╌╌╌╌╌╌╌╌╌╌╌╌╌╌╌╌╌╌╌╌┤\n│ WindTurbine1000_WeatherMeasuring... ┆ https://github.com/magbak/otit_s... │\n└─────────────────────────────────────┴─────────────────────────────────────┘",
      "text/html": "<div>\n<style scoped>\n    .dataframe tbody tr th:only-of-type {\n        vertical-align: middle;\n    }\n\n    .dataframe tbody tr th {\n        vertical-align: top;\n    }\n\n    .dataframe thead th {\n        text-align: right;\n    }\n\n    .dataframe td {\n        white-space: pre;\n    }\n\n    .dataframe td {\n        padding-top: 0;\n    }\n\n    .dataframe td {\n        padding-bottom: 0;\n    }\n\n    .dataframe td {\n        line-height: 95%;\n    }\n</style>\n<table border=\"1\" class=\"dataframe\" >\n<small>shape: (1000, 2)</small>\n<thead>\n<tr>\n<th>\nKey\n</th>\n<th>\nTargetAspectNodeIRI\n</th>\n</tr>\n<tr>\n<td>\nstr\n</td>\n<td>\nstr\n</td>\n</tr>\n</thead>\n<tbody>\n<tr>\n<td>\n\"WindTurbine1_W...\n</td>\n<td>\n\"https://github...\n</td>\n</tr>\n<tr>\n<td>\n\"WindTurbine2_W...\n</td>\n<td>\n\"https://github...\n</td>\n</tr>\n<tr>\n<td>\n\"WindTurbine3_W...\n</td>\n<td>\n\"https://github...\n</td>\n</tr>\n<tr>\n<td>\n\"WindTurbine4_W...\n</td>\n<td>\n\"https://github...\n</td>\n</tr>\n<tr>\n<td>\n\"WindTurbine5_W...\n</td>\n<td>\n\"https://github...\n</td>\n</tr>\n<tr>\n<td>\n\"WindTurbine6_W...\n</td>\n<td>\n\"https://github...\n</td>\n</tr>\n<tr>\n<td>\n\"WindTurbine7_W...\n</td>\n<td>\n\"https://github...\n</td>\n</tr>\n<tr>\n<td>\n\"WindTurbine8_W...\n</td>\n<td>\n\"https://github...\n</td>\n</tr>\n<tr>\n<td>\n\"WindTurbine9_W...\n</td>\n<td>\n\"https://github...\n</td>\n</tr>\n<tr>\n<td>\n\"WindTurbine10_...\n</td>\n<td>\n\"https://github...\n</td>\n</tr>\n<tr>\n<td>\n\"WindTurbine11_...\n</td>\n<td>\n\"https://github...\n</td>\n</tr>\n<tr>\n<td>\n\"WindTurbine12_...\n</td>\n<td>\n\"https://github...\n</td>\n</tr>\n<tr>\n<td>\n...\n</td>\n<td>\n...\n</td>\n</tr>\n<tr>\n<td>\n\"WindTurbine989...\n</td>\n<td>\n\"https://github...\n</td>\n</tr>\n<tr>\n<td>\n\"WindTurbine990...\n</td>\n<td>\n\"https://github...\n</td>\n</tr>\n<tr>\n<td>\n\"WindTurbine991...\n</td>\n<td>\n\"https://github...\n</td>\n</tr>\n<tr>\n<td>\n\"WindTurbine992...\n</td>\n<td>\n\"https://github...\n</td>\n</tr>\n<tr>\n<td>\n\"WindTurbine993...\n</td>\n<td>\n\"https://github...\n</td>\n</tr>\n<tr>\n<td>\n\"WindTurbine994...\n</td>\n<td>\n\"https://github...\n</td>\n</tr>\n<tr>\n<td>\n\"WindTurbine995...\n</td>\n<td>\n\"https://github...\n</td>\n</tr>\n<tr>\n<td>\n\"WindTurbine996...\n</td>\n<td>\n\"https://github...\n</td>\n</tr>\n<tr>\n<td>\n\"WindTurbine997...\n</td>\n<td>\n\"https://github...\n</td>\n</tr>\n<tr>\n<td>\n\"WindTurbine998...\n</td>\n<td>\n\"https://github...\n</td>\n</tr>\n<tr>\n<td>\n\"WindTurbine999...\n</td>\n<td>\n\"https://github...\n</td>\n</tr>\n<tr>\n<td>\n\"WindTurbine100...\n</td>\n<td>\n\"https://github...\n</td>\n</tr>\n</tbody>\n</table>\n</div>"
     },
     "execution_count": 20,
     "metadata": {},
     "output_type": "execute_result"
    }
   ],
   "source": [
    "wind_turbine_has_wms = pl.DataFrame ({\n",
    "    \"SourceIRIKey\": wind_turbine_keys,\n",
    "    \"TargetIRIKey\": wms_keys,\n",
    "    \"Label\": [\"LE1\" for i in range(1,n+1)],\n",
    "})\n",
    "wind_turbine_has_wms[\"Key\"] = wind_turbine_has_wms[\"SourceIRIKey\"] + \"_\" + wind_turbine_has_wms[\"TargetIRIKey\"]\n",
    "wind_turbine_has_wms_mint_iris = {\n",
    "    \"TargetAspectNodeIRI\": MintingOptions(\n",
    "        prefix= wpex + \"WMSFunctionalAspect\", \n",
    "        numbering_suffix_start=1)}\n",
    "mapping.expand(\"tpl:FunctionalAspect\", \n",
    "               df=wind_turbine_has_wms,\n",
    "               mint_iris=wind_turbine_has_wms_mint_iris, \n",
    "               resolve_iris=rdssystem_to_rdssystem_resolve_iris\n",
    "              )"
   ]
  },
  {
   "cell_type": "code",
   "execution_count": 21,
   "id": "85b71c6a",
   "metadata": {
    "pycharm": {
     "name": "#%%\n"
    }
   },
   "outputs": [],
   "source": [
    "triples = mapping.to_triples()"
   ]
  },
  {
   "cell_type": "markdown",
   "source": [
    "# Export to rdflib (slow)"
   ],
   "metadata": {
    "collapsed": false,
    "pycharm": {
     "name": "#%% md\n"
    }
   }
  },
  {
   "cell_type": "code",
   "execution_count": 22,
   "outputs": [],
   "source": [
    "gr = to_graph(mapping)"
   ],
   "metadata": {
    "collapsed": false,
    "pycharm": {
     "name": "#%%\n"
    }
   }
  },
  {
   "cell_type": "code",
   "execution_count": 23,
   "id": "ca1d628f",
   "metadata": {
    "pycharm": {
     "name": "#%%\n"
    }
   },
   "outputs": [
    {
     "data": {
      "text/plain": "<Graph identifier=Nc639b108973540619cb2ab762455c648 (<class 'rdflib.graph.Graph'>)>"
     },
     "execution_count": 23,
     "metadata": {},
     "output_type": "execute_result"
    }
   ],
   "source": [
    "gr.serialize(destination=\"windpower.ttl\")"
   ]
  },
  {
   "cell_type": "markdown",
   "source": [
    "# Write ntriples (fast)"
   ],
   "metadata": {
    "collapsed": false,
    "pycharm": {
     "name": "#%% md\n"
    }
   }
  },
  {
   "cell_type": "code",
   "execution_count": 24,
   "outputs": [],
   "source": [
    "mapping.write_ntriples(\"windpower.nt\")"
   ],
   "metadata": {
    "collapsed": false,
    "pycharm": {
     "name": "#%%\n"
    }
   }
  }
 ],
 "metadata": {
  "kernelspec": {
   "display_name": "Python 3 (ipykernel)",
   "language": "python",
   "name": "python3"
  },
  "language_info": {
   "codemirror_mode": {
    "name": "ipython",
    "version": 3
   },
   "file_extension": ".py",
   "mimetype": "text/x-python",
   "name": "python",
   "nbconvert_exporter": "python",
   "pygments_lexer": "ipython3",
   "version": "3.10.4"
  }
 },
 "nbformat": 4,
 "nbformat_minor": 5
}